{
 "cells": [
  {
   "cell_type": "code",
   "execution_count": 1,
   "metadata": {},
   "outputs": [],
   "source": [
    "# Import Dependencies\n",
    "import pandas as pd\n",
    "import numpy as np\n",
    "import datetime as dt\n",
    "import matplotlib.pyplot as plt\n",
    "from dotenv import load_dotenv\n",
    "import alpaca_trade_api as tradeapi\n",
    "import os\n",
    "from datetime import datetime\n",
    "from MCForecastTools import MCSimulation\n",
    "import requests\n",
    "import pandas_datareader as pdr\n",
    "%matplotlib inline"
   ]
  },
  {
   "cell_type": "code",
   "execution_count": 2,
   "metadata": {},
   "outputs": [],
   "source": [
    "# Function to Validate Tickers\n",
    "def validateTick(tick):\n",
    "    \n",
    "    # Try Inputting into Yahoo Stocks\n",
    "    try:\n",
    "        pdr.DataReader(f'{tick}','yahoo',date)\n",
    "    \n",
    "    # Raise Error if Invalid\n",
    "    except:\n",
    "        raise ValueError(\"Ticker Not Valid.\")\n",
    "        \n",
    "# Function to Validate Date\n",
    "def validate(date_text):\n",
    "    \n",
    "    # Try Check on Format\n",
    "    try:\n",
    "        datetime.strptime(date_text, '%Y-%m-%d')\n",
    "        \n",
    "    # Raise Error if Invalid\n",
    "    except ValueError:\n",
    "        raise ValueError(\"Incorrect data format, should be YYYY-MM-DD\")"
   ]
  },
  {
   "cell_type": "code",
   "execution_count": null,
   "metadata": {},
   "outputs": [
    {
     "name": "stdin",
     "output_type": "stream",
     "text": [
      "Pick a start date for your analysis (YYYY-MM-DD):  2015-01-01\n",
      "Add a stock ticker to the list:  TSLA\n",
      "Press 'y' to Add Another Stock, press 'Enter' to exit MSFT\n",
      "Add a stock ticker to the list:  y\n",
      "Press 'y' to Add Another Stock, press 'Enter' to exit y\n",
      "Add a stock ticker to the list:  MSFT\n"
     ]
    }
   ],
   "source": [
    "# Set Empty Dictionary\n",
    "stock_dict = {}\n",
    "\n",
    "# Set Empty List\n",
    "stock_list = []\n",
    "\n",
    "# Pick a Start Date\n",
    "date = input(\"Pick a start date for your analysis (YYYY-MM-DD): \")\n",
    "validate(date)\n",
    "\n",
    "# While Loop to Pick Stocks\n",
    "while (True):\n",
    "    name = input(\"Add a stock ticker to the list: \").upper()\n",
    "    validateTick(name)\n",
    "    stock_dict[name] = date\n",
    "    stock_list.append(name)\n",
    "    cont = input(\"Press 'y' to Add Another Stock, press 'Enter' to exit\")\n",
    "    if cont == \"\":\n",
    "        break;"
   ]
  },
  {
   "cell_type": "code",
   "execution_count": null,
   "metadata": {},
   "outputs": [],
   "source": [
    "def stockCreation(stock_dict, stock_list):\n",
    "    func_list = []\n",
    "    count = 0\n",
    "    for key, value in stock_dict.items():\n",
    "        globals()[key] = pdr.DataReader(f'{key}','yahoo',value)\n",
    "        globals()[key].columns = [[key, key, key, key, key, key,],[\"high\", \"low\", \"open\", \"close\", \"volume\", \"adj_close\"]]\n",
    "        func_list.append(globals()[key])\n",
    "    \n",
    "    portfolio = func_list[0]\n",
    "    \n",
    "    if len(func_list) == 2:\n",
    "        portfolio = portfolio.merge(func_list[1], left_index=True, right_index=True, suffixes=[f'_{stock_list[0]}', f'_{stock_list[1]}'])\n",
    "    elif len(func_list) > 2:\n",
    "        portfolio = portfolio.merge(func_list[1], left_index=True, right_index=True)\n",
    "        for x in range(len(func_list)-2):\n",
    "            portfolio = portfolio.merge(func_list[x + 2], left_index=True, right_index=True)\n",
    "\n",
    "    portfolio_close = []       \n",
    "    for x in range(len(stock_list)):\n",
    "        portfolio_close.append(portfolio[stock_list[x]][f\"adj_close\"])\n",
    "    \n",
    "    portfolio_close = pd.DataFrame(portfolio_close)\n",
    "    \n",
    "    portfolio_close = portfolio_close.T\n",
    "    \n",
    "    portfolio_close.columns = stock_list\n",
    "        \n",
    "        \n",
    "    \n",
    "    return portfolio, portfolio_close"
   ]
  },
  {
   "cell_type": "code",
   "execution_count": null,
   "metadata": {},
   "outputs": [],
   "source": [
    "portfolio = stockCreation(stock_dict, stock_list)[0]\n",
    "portfolio"
   ]
  },
  {
   "cell_type": "code",
   "execution_count": null,
   "metadata": {},
   "outputs": [],
   "source": [
    "portfolio_close = stockCreation(stock_dict, stock_list)[1]\n",
    "portfolio_close"
   ]
  },
  {
   "cell_type": "markdown",
   "metadata": {},
   "source": [
    "Sharpe Ratios\n",
    "\n",
    "Definition: average return earned beyond the risk-free rate per unit of volatility, the measure of the price fluctuations of an asset. The greater the value of the Sharpe ratio, the more attractive the risk-adjusted return.\n",
    "\n",
    "Purpose: The ratio describes the compensation an investor will receive for the extra volatility endured when holding a riskier asset."
   ]
  },
  {
   "cell_type": "code",
   "execution_count": null,
   "metadata": {},
   "outputs": [],
   "source": [
    "# Calculate annualized Sharpe Ratios\n",
    "sharpe_ratios = (portfolio.mean()*252) / (portfolio.std()*np.sqrt(252))\n",
    "\n",
    "# Show results\n",
    "sharpe_ratios"
   ]
  },
  {
   "cell_type": "code",
   "execution_count": null,
   "metadata": {},
   "outputs": [],
   "source": [
    "# Initialize new figure\n",
    "plt.figure()\n",
    "\n",
    "# Visualize Sharpe Ratios as a bar plot\n",
    "sharpe_ratios.plot(kind=\"bar\", figsize = (20,10), title=\"Sharpe Ratios\");"
   ]
  },
  {
   "cell_type": "code",
   "execution_count": null,
   "metadata": {},
   "outputs": [],
   "source": [
    "# Create a correlation analysis\n",
    "custom_corr = portfolio.corr()\n",
    "\n",
    "# Show results\n",
    "custom_corr"
   ]
  },
  {
   "cell_type": "code",
   "execution_count": null,
   "metadata": {},
   "outputs": [],
   "source": []
  }
 ],
 "metadata": {
  "kernelspec": {
   "display_name": "Python [conda env:root] *",
   "language": "python",
   "name": "conda-root-py"
  },
  "language_info": {
   "codemirror_mode": {
    "name": "ipython",
    "version": 3
   },
   "file_extension": ".py",
   "mimetype": "text/x-python",
   "name": "python",
   "nbconvert_exporter": "python",
   "pygments_lexer": "ipython3",
   "version": "3.8.3"
  }
 },
 "nbformat": 4,
 "nbformat_minor": 4
}
