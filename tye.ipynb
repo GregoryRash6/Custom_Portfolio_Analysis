{
 "cells": [
  {
   "cell_type": "code",
   "execution_count": null,
   "metadata": {},
   "outputs": [],
   "source": [
    "pip install pandas-datareader"
   ]
  },
  {
   "cell_type": "code",
   "execution_count": 1,
   "metadata": {},
   "outputs": [],
   "source": [
    "# Import Dependencies\n",
    "import pandas as pd\n",
    "import numpy as np\n",
    "import datetime as dt\n",
    "import matplotlib.pyplot as plt\n",
    "from dotenv import load_dotenv\n",
    "import alpaca_trade_api as tradeapi\n",
    "import os\n",
    "from datetime import datetime\n",
    "from MCForecastTools import MCSimulation\n",
    "import requests\n",
    "import pandas_datareader as pdr\n",
    "%matplotlib inline"
   ]
  },
  {
   "cell_type": "code",
   "execution_count": 2,
   "metadata": {},
   "outputs": [
    {
     "data": {
      "text/plain": [
       "True"
      ]
     },
     "execution_count": 2,
     "metadata": {},
     "output_type": "execute_result"
    }
   ],
   "source": [
    "load_dotenv()\n"
   ]
  },
  {
   "cell_type": "code",
   "execution_count": 3,
   "metadata": {},
   "outputs": [],
   "source": [
    "alpaca_api_key = os.getenv(\"alpaca_api_key\")\n",
    "alpaca_secret_key = os.getenv(\"alpaca_secret_key\")\n",
    "\n",
    "alpaca = tradeapi.REST(\n",
    "    alpaca_api_key,\n",
    "    alpaca_secret_key,\n",
    "    api_version=\"v2\")\n",
    "\n",
    "# Function to Validate Tickers\n",
    "def validateTick(tick):\n",
    "    \n",
    "    # Try Inputting into Yahoo Stocks\n",
    "    try:\n",
    "        pdr.DataReader(f'{tick}','yahoo',date)\n",
    "    \n",
    "    # Raise Error if Invalid\n",
    "    except:\n",
    "        raise ValueError(\"Ticker Not Valid.\")\n",
    "        \n",
    "# Function to Validate Date\n",
    "def validate(date_text):\n",
    "    \n",
    "    # Try Check on Format\n",
    "    try:\n",
    "        datetime.strptime(date_text, '%Y-%m-%d')\n",
    "        \n",
    "    # Raise Error if Invalid\n",
    "    except ValueError:\n",
    "        raise ValueError(\"Incorrect data format, should be YYYY-MM-DD\")"
   ]
  },
  {
   "cell_type": "code",
   "execution_count": 7,
   "metadata": {},
   "outputs": [
    {
     "name": "stdin",
     "output_type": "stream",
     "text": [
      "Pick a start date for your analysis (YYYY-MM-DD):  2018-01-01\n",
      "Add a stock ticker to the list:  AAPL\n",
      "Press 'y' to Add Another Stock, press 'Enter' to exit \n"
     ]
    }
   ],
   "source": [
    "# Set Empty Dictionary\n",
    "stock_dict = {}\n",
    "\n",
    "# Set Empty List\n",
    "stock_list = []\n",
    "\n",
    "# Pick a Start Date\n",
    "date = input(\"Pick a start date for your analysis (YYYY-MM-DD): \")\n",
    "validate(date)\n",
    "\n",
    "# While Loop to Pick Stocks\n",
    "while (True):\n",
    "    name = input(\"Add a stock ticker to the list: \").upper()\n",
    "    validateTick(name)\n",
    "    stock_dict[name] = date\n",
    "    stock_list.append(name)\n",
    "    cont = input(\"Press 'y' to Add Another Stock, press 'Enter' to exit\")\n",
    "    if cont == \"\":\n",
    "        break;\n",
    "    "
   ]
  },
  {
   "cell_type": "code",
   "execution_count": 8,
   "metadata": {},
   "outputs": [],
   "source": [
    "\n",
    "# Function to Create Stock DataFrames\n",
    "def stockCreation(stock_dict, stock_list):\n",
    "    \n",
    "    # Set Empty List\n",
    "    func_list = []\n",
    "    \n",
    "    # Get Today's Date\n",
    "    today = datetime.now().strftime(\"%Y-%m-%d\")\n",
    "\n",
    "    # Convert Today's Date to ISO Format \n",
    "    today = pd.Timestamp(today, tz=\"America/New_York\").isoformat()\n",
    "\n",
    "    # Set TimeFrame\n",
    "    timeframe = \"1D\"\n",
    "\n",
    "    # Create DataFrame\n",
    "    portfolio = alpaca.get_barset(\n",
    "        stock_list,\n",
    "        timeframe,\n",
    "        start = date,\n",
    "        end = today\n",
    "    ).df\n",
    "    \n",
    "    # Add Closing Prices to Empty List\n",
    "    for key, value in stock_dict.items():\n",
    "        globals()[key] = portfolio[key][\"close\"]\n",
    "        func_list.append(globals()[key])\n",
    "    \n",
    "    # Create DataFrame out of Closing Prices\n",
    "    portfolio_close = pd.concat(func_list, axis='columns', join='inner')\n",
    "    \n",
    "    # Rename Columns\n",
    "    portfolio_close.columns = stock_list\n",
    "    \n",
    "    # Return Both DataFrames\n",
    "    return portfolio, portfolio_close"
   ]
  },
  {
   "cell_type": "code",
   "execution_count": 9,
   "metadata": {},
   "outputs": [
    {
     "data": {
      "text/html": [
       "<div>\n",
       "<style scoped>\n",
       "    .dataframe tbody tr th:only-of-type {\n",
       "        vertical-align: middle;\n",
       "    }\n",
       "\n",
       "    .dataframe tbody tr th {\n",
       "        vertical-align: top;\n",
       "    }\n",
       "\n",
       "    .dataframe thead tr th {\n",
       "        text-align: left;\n",
       "    }\n",
       "\n",
       "    .dataframe thead tr:last-of-type th {\n",
       "        text-align: right;\n",
       "    }\n",
       "</style>\n",
       "<table border=\"1\" class=\"dataframe\">\n",
       "  <thead>\n",
       "    <tr>\n",
       "      <th></th>\n",
       "      <th colspan=\"5\" halign=\"left\">AAPL</th>\n",
       "    </tr>\n",
       "    <tr>\n",
       "      <th></th>\n",
       "      <th>open</th>\n",
       "      <th>high</th>\n",
       "      <th>low</th>\n",
       "      <th>close</th>\n",
       "      <th>volume</th>\n",
       "    </tr>\n",
       "    <tr>\n",
       "      <th>time</th>\n",
       "      <th></th>\n",
       "      <th></th>\n",
       "      <th></th>\n",
       "      <th></th>\n",
       "      <th></th>\n",
       "    </tr>\n",
       "  </thead>\n",
       "  <tbody>\n",
       "    <tr>\n",
       "      <th>2020-07-22 00:00:00-04:00</th>\n",
       "      <td>386.7700</td>\n",
       "      <td>391.9000</td>\n",
       "      <td>386.41</td>\n",
       "      <td>389.090</td>\n",
       "      <td>18899399</td>\n",
       "    </tr>\n",
       "    <tr>\n",
       "      <th>2020-07-23 00:00:00-04:00</th>\n",
       "      <td>387.9935</td>\n",
       "      <td>388.3100</td>\n",
       "      <td>369.64</td>\n",
       "      <td>371.560</td>\n",
       "      <td>25747322</td>\n",
       "    </tr>\n",
       "    <tr>\n",
       "      <th>2020-07-24 00:00:00-04:00</th>\n",
       "      <td>363.9500</td>\n",
       "      <td>371.8800</td>\n",
       "      <td>356.58</td>\n",
       "      <td>370.420</td>\n",
       "      <td>43883515</td>\n",
       "    </tr>\n",
       "    <tr>\n",
       "      <th>2020-07-27 00:00:00-04:00</th>\n",
       "      <td>374.8400</td>\n",
       "      <td>379.6200</td>\n",
       "      <td>373.92</td>\n",
       "      <td>379.215</td>\n",
       "      <td>26920001</td>\n",
       "    </tr>\n",
       "    <tr>\n",
       "      <th>2020-07-28 00:00:00-04:00</th>\n",
       "      <td>377.4700</td>\n",
       "      <td>378.1986</td>\n",
       "      <td>372.99</td>\n",
       "      <td>373.040</td>\n",
       "      <td>23023333</td>\n",
       "    </tr>\n",
       "  </tbody>\n",
       "</table>\n",
       "</div>"
      ],
      "text/plain": [
       "                               AAPL                                     \n",
       "                               open      high     low    close    volume\n",
       "time                                                                    \n",
       "2020-07-22 00:00:00-04:00  386.7700  391.9000  386.41  389.090  18899399\n",
       "2020-07-23 00:00:00-04:00  387.9935  388.3100  369.64  371.560  25747322\n",
       "2020-07-24 00:00:00-04:00  363.9500  371.8800  356.58  370.420  43883515\n",
       "2020-07-27 00:00:00-04:00  374.8400  379.6200  373.92  379.215  26920001\n",
       "2020-07-28 00:00:00-04:00  377.4700  378.1986  372.99  373.040  23023333"
      ]
     },
     "execution_count": 9,
     "metadata": {},
     "output_type": "execute_result"
    }
   ],
   "source": [
    "portfolio = stockCreation(stock_dict, stock_list)[0]\n",
    "portfolio.head()"
   ]
  },
  {
   "cell_type": "code",
   "execution_count": null,
   "metadata": {},
   "outputs": [],
   "source": [
    "portfolio_close = stockCreation(stock_dict, stock_list)[1]\n",
    "portfolio_close.head()"
   ]
  },
  {
   "cell_type": "markdown",
   "metadata": {},
   "source": [
    "# Exponentially Weighted Moving Average (EWMA)\n",
    "\n",
    "### Definition: A view of the average price (open, close, mean) of a stock that gives more weight to the more recent values of the asset.  \n",
    "\n",
    "### Purpose: The EWMA of a stock can be used as a condfidence indiacator, meaning that a strong but declining stock should have a hard time moving below the EWMA.EWMA can help you to determine what actions to take with an asset depending on its relative position to the close price. "
   ]
  },
  {
   "cell_type": "code",
   "execution_count": null,
   "metadata": {},
   "outputs": [],
   "source": [
    "portfolio_close.head()"
   ]
  },
  {
   "cell_type": "code",
   "execution_count": null,
   "metadata": {},
   "outputs": [],
   "source": [
    "df = portfolio_close\n",
    "\n",
    "def ewmas(df, win, keepSource):\n",
    "\n",
    "    df_temp = df.copy()\n",
    "\n",
    "    #change names of columns\n",
    "    columnNames = list(df_temp.columns.values).copy()\n",
    "    removeNames = columnNames.copy()\n",
    "\n",
    "    i = 0\n",
    "    for col in columnNames:\n",
    "\n",
    "        # Make new names for ewmas\n",
    "        ewmaName = columnNames[i] + '_EWMA' + str()   \n",
    "\n",
    "        # Add ewmas\n",
    "        df_temp[ewmaName] = df[columnNames[i]].ewm(halflife=21).std()\n",
    "\n",
    "        i = i + 1\n",
    "\n",
    "    # Remove estimates with insufficient window length\n",
    "    df_temp = df_temp.iloc[win:]\n",
    "\n",
    "    # Remove or keep source data\n",
    "    if keepSource == False:\n",
    "        df_temp = df_temp.drop(removeNames,1)\n",
    "\n",
    "    return df_temp\n",
    "\n",
    "df_new = ewmas(df = df, win = 2, keepSource = True)\n",
    "df_new.tail()"
   ]
  },
  {
   "cell_type": "code",
   "execution_count": null,
   "metadata": {},
   "outputs": [],
   "source": [
    "df_new.plot(figsize=(20,10),title='Portfolio Exponentially Weighted Moving Average and Close Price');"
   ]
  },
  {
   "cell_type": "markdown",
   "metadata": {},
   "source": [
    "### Using Exponentially Weighted Moving Average with overlapping closing prices, what would be your action for the assets in the portfolio you created? "
   ]
  },
  {
   "cell_type": "markdown",
   "metadata": {},
   "source": [
    "# Risk Analysis\n",
    "\n",
    "### Definition: Looking at individual assets, risk and return can be directly correlated. Often as risk increases the opportunity for a large return will also increase, but also a large loss. Looking at an entire portfolio a more risk adverse portfolio will be diverse and have stocks or assets that do not directly correlate with each other. \n",
    "\n",
    "### Purpose: Risk Analysis is a good tool to weigh the risk versus return for an entire portfolio or a single asset or security. "
   ]
  },
  {
   "cell_type": "code",
   "execution_count": null,
   "metadata": {},
   "outputs": [],
   "source": [
    "#variables needed\n",
    "#stocks = portfolio_returns\n",
    "#weights\n",
    "weights = np.full((1,len(portfolio_close.columns)), 1/len(portfolio_close.columns))[0].tolist()\n",
    "\n",
    "#calculate the daily returns of our portfolio\n",
    "portfolio_returns = portfolio_close.pct_change()\n",
    "portfolio_returns.head(10)"
   ]
  },
  {
   "cell_type": "code",
   "execution_count": null,
   "metadata": {},
   "outputs": [],
   "source": [
    "portfolio_returns = portfolio_returns.dropna().copy()\n",
    "portfolio_returns.head()"
   ]
  },
  {
   "cell_type": "code",
   "execution_count": null,
   "metadata": {},
   "outputs": [],
   "source": [
    "#calculate the a average return for each stock\n",
    "portfolio_returns_avg_rtn = portfolio_returns.mean()\n",
    "portfolio_returns_avg_rtn"
   ]
  },
  {
   "cell_type": "code",
   "execution_count": null,
   "metadata": {},
   "outputs": [],
   "source": [
    "allocated_daily_returns = (weights * portfolio_returns_avg_rtn)\n",
    "\n",
    "portfolio_return_pct = np.sum(allocated_daily_returns)\n",
    "print(f\"\"\"\n",
    "\n",
    "The percent return of the portfolio is {round(portfolio_return_pct*100,2)}%\"\"\")"
   ]
  },
  {
   "cell_type": "code",
   "execution_count": null,
   "metadata": {},
   "outputs": [],
   "source": [
    "#add daily returns to our dataframe \n",
    "portfolio_returns['portfolio_daily_returns'] = portfolio_returns.dot(weights)\n",
    "portfolio_returns.head()"
   ]
  },
  {
   "cell_type": "code",
   "execution_count": null,
   "metadata": {},
   "outputs": [],
   "source": [
    "#calculate cumulative returns\n",
    "Cumulative_returns_daily = (1+portfolio_returns).cumprod()\n",
    "Cumulative_returns_daily.head()"
   ]
  },
  {
   "cell_type": "code",
   "execution_count": null,
   "metadata": {},
   "outputs": [],
   "source": [
    "#plot cumulative returns for portfolio and individual stocks\n",
    "Cumulative_returns_daily.plot();"
   ]
  },
  {
   "cell_type": "code",
   "execution_count": null,
   "metadata": {},
   "outputs": [],
   "source": [
    "Cumulative_returns_daily['portfolio_daily_returns'].sum()"
   ]
  },
  {
   "cell_type": "code",
   "execution_count": null,
   "metadata": {},
   "outputs": [],
   "source": [
    "#calculate the covariance of the portfolio for risk analysis\n",
    "#a positive covariance means the assets move in the same direction\n",
    "#a negative covariance means the assets move in different directions and ultimately lowers your risk through diversivication\n",
    "\n",
    "covariance_portfolio = portfolio_returns.iloc[:,:-1]\n",
    "covariance_portfolio = (covariance_portfolio.cov())*252\n",
    "\n",
    "covariance_portfolio"
   ]
  },
  {
   "cell_type": "code",
   "execution_count": null,
   "metadata": {},
   "outputs": [],
   "source": [
    "#calculate variance and risk\n",
    "\n",
    "portfolio_variance = np.dot(weights,np.dot(covariance_portfolio, weights))\n",
    "\n",
    "#standard deviation (risk of portfolio)\n",
    "portfolio_risk = np.sqrt(portfolio_variance)\n",
    "portfolio_risk\n"
   ]
  },
  {
   "cell_type": "code",
   "execution_count": null,
   "metadata": {},
   "outputs": [],
   "source": [
    "print(f\"\"\"This portfolio has a return of {round(Cumulative_returns_daily['portfolio_daily_returns'].sum() - 100,2)}% \n",
    "and a risk of {round(portfolio_risk *100, 2)}%.\"\"\")"
   ]
  },
  {
   "cell_type": "markdown",
   "metadata": {},
   "source": [
    "### Knowing the risk and return of this portfolio, how would you optimize it or change it to reduce risk or increase return? "
   ]
  },
  {
   "cell_type": "code",
   "execution_count": null,
   "metadata": {},
   "outputs": [],
   "source": []
  }
 ],
 "metadata": {
  "kernelspec": {
   "display_name": "Python 3",
   "language": "python",
   "name": "python3"
  },
  "language_info": {
   "codemirror_mode": {
    "name": "ipython",
    "version": 3
   },
   "file_extension": ".py",
   "mimetype": "text/x-python",
   "name": "python",
   "nbconvert_exporter": "python",
   "pygments_lexer": "ipython3",
   "version": "3.7.7"
  }
 },
 "nbformat": 4,
 "nbformat_minor": 4
}
