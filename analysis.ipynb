{
 "cells": [
  {
   "cell_type": "code",
   "execution_count": 1,
   "metadata": {},
   "outputs": [],
   "source": [
    "# Import Dependencies\n",
    "import pandas as pd\n",
    "import numpy as np\n",
    "import datetime as dt\n",
    "import matplotlib.pyplot as plt\n",
    "from dotenv import load_dotenv\n",
    "import os\n",
    "from datetime import datetime\n",
    "from MCForecastTools import MCSimulation\n",
    "import requests\n",
    "import pandas_datareader as pdr\n",
    "%matplotlib inline"
   ]
  },
  {
   "cell_type": "code",
   "execution_count": 2,
   "metadata": {},
   "outputs": [],
   "source": [
    "# Function to Validate Tickers\n",
    "def validateTick(tick):\n",
    "    \n",
    "    # Try Inputting into Yahoo Stocks\n",
    "    try:\n",
    "        pdr.DataReader(f'{tick}','yahoo',date)\n",
    "    \n",
    "    # Raise Error if Invalid\n",
    "    except:\n",
    "        raise ValueError(\"Ticker Not Valid.\")\n",
    "        \n",
    "# Function to Validate Date\n",
    "def validate(date_text):\n",
    "    \n",
    "    # Try Check on Format\n",
    "    try:\n",
    "        datetime.strptime(date_text, '%Y-%m-%d')\n",
    "        \n",
    "    # Raise Error if Invalid\n",
    "    except ValueError:\n",
    "        raise ValueError(\"Incorrect data format, should be YYYY-MM-DD\")"
   ]
  },
  {
   "cell_type": "code",
   "execution_count": 3,
   "metadata": {},
   "outputs": [
    {
     "name": "stdin",
     "output_type": "stream",
     "text": [
      "Pick a start date for your analysis (YYYY-MM-DD):  2015-01-01\n",
      "Add a stock ticker to the list:  AMD\n",
      "Press 'y' to Add Another Stock, press 'Enter' to exit y\n",
      "Add a stock ticker to the list:  ADBE\n",
      "Press 'y' to Add Another Stock, press 'Enter' to exit y\n",
      "Add a stock ticker to the list:  C\n",
      "Press 'y' to Add Another Stock, press 'Enter' to exit y\n",
      "Add a stock ticker to the list:  G\n",
      "Press 'y' to Add Another Stock, press 'Enter' to exit \n"
     ]
    }
   ],
   "source": [
    "# Set Empty Dictionary\n",
    "stock_dict = {}\n",
    "\n",
    "# Set Empty List\n",
    "stock_list = []\n",
    "\n",
    "# Pick a Start Date\n",
    "date = input(\"Pick a start date for your analysis (YYYY-MM-DD): \")\n",
    "validate(date)\n",
    "\n",
    "# While Loop to Pick Stocks\n",
    "while (True):\n",
    "    name = input(\"Add a stock ticker to the list: \").upper()\n",
    "    validateTick(name)\n",
    "    stock_dict[name] = date\n",
    "    stock_list.append(name)\n",
    "    cont = input(\"Press 'y' to Add Another Stock, press 'Enter' to exit\")\n",
    "    if cont == \"\":\n",
    "        break;"
   ]
  },
  {
   "cell_type": "code",
   "execution_count": 4,
   "metadata": {},
   "outputs": [],
   "source": [
    "# Function to Create Stocks\n",
    "def stockCreation(stock_dict, stock_list):\n",
    "    \n",
    "    # Create Empty List\n",
    "    func_list = []\n",
    "\n",
    "    # For Loop to Iterate through Stocks\n",
    "    for key, value in stock_dict.items():\n",
    "        \n",
    "        # Collect Stock Data\n",
    "        globals()[key] = pdr.DataReader(f'{key}','yahoo',value)\n",
    "        \n",
    "        # Assign Column Values\n",
    "        globals()[key].columns = [[key, key, key, key, key, key,],[\"high\", \"low\", \"open\", \"close\", \"volume\", \"adj_close\"]]\n",
    "\n",
    "        # Append Each Stock into func_list\n",
    "        func_list.append(globals()[key])\n",
    "    \n",
    "    # Set First Portfolio\n",
    "    portfolio = func_list[0]\n",
    "    \n",
    "    # Create Portfolio Based on Number of Stocks\n",
    "    if len(func_list) == 2:\n",
    "        portfolio = portfolio.merge(func_list[1], left_index=True, right_index=True, suffixes=[f'_{stock_list[0]}', f'_{stock_list[1]}'])\n",
    "    elif len(func_list) > 2:\n",
    "        portfolio = portfolio.merge(func_list[1], left_index=True, right_index=True)\n",
    "        for x in range(len(func_list)-2):\n",
    "            portfolio = portfolio.merge(func_list[x + 2], left_index=True, right_index=True)\n",
    "            \n",
    "    # Create Empty List\n",
    "    portfolio_close = []\n",
    "    \n",
    "    # Append Close Values to New List\n",
    "    for x in range(len(stock_list)):\n",
    "        portfolio_close.append(portfolio[stock_list[x]][f\"adj_close\"])\n",
    "    \n",
    "    # Create DataFrame from New List\n",
    "    portfolio_close = pd.DataFrame(portfolio_close)\n",
    "    \n",
    "    # Transpose DataFrame\n",
    "    portfolio_close = portfolio_close.T\n",
    "    \n",
    "    # Assign Column Names\n",
    "    portfolio_close.columns = stock_list\n",
    "        \n",
    "    # Return Both DataFrames\n",
    "    return portfolio, portfolio_close"
   ]
  },
  {
   "cell_type": "code",
   "execution_count": 5,
   "metadata": {},
   "outputs": [
    {
     "data": {
      "text/html": [
       "<div>\n",
       "<style scoped>\n",
       "    .dataframe tbody tr th:only-of-type {\n",
       "        vertical-align: middle;\n",
       "    }\n",
       "\n",
       "    .dataframe tbody tr th {\n",
       "        vertical-align: top;\n",
       "    }\n",
       "\n",
       "    .dataframe thead tr th {\n",
       "        text-align: left;\n",
       "    }\n",
       "\n",
       "    .dataframe thead tr:last-of-type th {\n",
       "        text-align: right;\n",
       "    }\n",
       "</style>\n",
       "<table border=\"1\" class=\"dataframe\">\n",
       "  <thead>\n",
       "    <tr>\n",
       "      <th></th>\n",
       "      <th colspan=\"6\" halign=\"left\">AMD</th>\n",
       "      <th colspan=\"4\" halign=\"left\">ADBE</th>\n",
       "      <th>...</th>\n",
       "      <th colspan=\"4\" halign=\"left\">C</th>\n",
       "      <th colspan=\"6\" halign=\"left\">G</th>\n",
       "    </tr>\n",
       "    <tr>\n",
       "      <th></th>\n",
       "      <th>high</th>\n",
       "      <th>low</th>\n",
       "      <th>open</th>\n",
       "      <th>close</th>\n",
       "      <th>volume</th>\n",
       "      <th>adj_close</th>\n",
       "      <th>high</th>\n",
       "      <th>low</th>\n",
       "      <th>open</th>\n",
       "      <th>close</th>\n",
       "      <th>...</th>\n",
       "      <th>open</th>\n",
       "      <th>close</th>\n",
       "      <th>volume</th>\n",
       "      <th>adj_close</th>\n",
       "      <th>high</th>\n",
       "      <th>low</th>\n",
       "      <th>open</th>\n",
       "      <th>close</th>\n",
       "      <th>volume</th>\n",
       "      <th>adj_close</th>\n",
       "    </tr>\n",
       "    <tr>\n",
       "      <th>Date</th>\n",
       "      <th></th>\n",
       "      <th></th>\n",
       "      <th></th>\n",
       "      <th></th>\n",
       "      <th></th>\n",
       "      <th></th>\n",
       "      <th></th>\n",
       "      <th></th>\n",
       "      <th></th>\n",
       "      <th></th>\n",
       "      <th></th>\n",
       "      <th></th>\n",
       "      <th></th>\n",
       "      <th></th>\n",
       "      <th></th>\n",
       "      <th></th>\n",
       "      <th></th>\n",
       "      <th></th>\n",
       "      <th></th>\n",
       "      <th></th>\n",
       "      <th></th>\n",
       "    </tr>\n",
       "  </thead>\n",
       "  <tbody>\n",
       "    <tr>\n",
       "      <td>2015-01-02</td>\n",
       "      <td>2.670000</td>\n",
       "      <td>2.670000</td>\n",
       "      <td>2.670000</td>\n",
       "      <td>2.670000</td>\n",
       "      <td>0</td>\n",
       "      <td>2.670000</td>\n",
       "      <td>73.199997</td>\n",
       "      <td>71.889999</td>\n",
       "      <td>72.699997</td>\n",
       "      <td>72.339996</td>\n",
       "      <td>...</td>\n",
       "      <td>54.360001</td>\n",
       "      <td>54.259998</td>\n",
       "      <td>11137800.0</td>\n",
       "      <td>48.313530</td>\n",
       "      <td>19.170000</td>\n",
       "      <td>18.750000</td>\n",
       "      <td>19.040001</td>\n",
       "      <td>18.900000</td>\n",
       "      <td>259300.0</td>\n",
       "      <td>18.199549</td>\n",
       "    </tr>\n",
       "    <tr>\n",
       "      <td>2015-01-05</td>\n",
       "      <td>2.700000</td>\n",
       "      <td>2.640000</td>\n",
       "      <td>2.670000</td>\n",
       "      <td>2.660000</td>\n",
       "      <td>8878200</td>\n",
       "      <td>2.660000</td>\n",
       "      <td>72.430000</td>\n",
       "      <td>71.570000</td>\n",
       "      <td>72.209999</td>\n",
       "      <td>71.980003</td>\n",
       "      <td>...</td>\n",
       "      <td>53.910000</td>\n",
       "      <td>52.549999</td>\n",
       "      <td>20945400.0</td>\n",
       "      <td>46.790939</td>\n",
       "      <td>18.990000</td>\n",
       "      <td>18.510000</td>\n",
       "      <td>18.770000</td>\n",
       "      <td>18.870001</td>\n",
       "      <td>836100.0</td>\n",
       "      <td>18.170660</td>\n",
       "    </tr>\n",
       "    <tr>\n",
       "      <td>2015-01-06</td>\n",
       "      <td>2.660000</td>\n",
       "      <td>2.550000</td>\n",
       "      <td>2.650000</td>\n",
       "      <td>2.630000</td>\n",
       "      <td>13912500</td>\n",
       "      <td>2.630000</td>\n",
       "      <td>72.099998</td>\n",
       "      <td>69.879997</td>\n",
       "      <td>71.949997</td>\n",
       "      <td>70.529999</td>\n",
       "      <td>...</td>\n",
       "      <td>52.680000</td>\n",
       "      <td>50.700001</td>\n",
       "      <td>31989300.0</td>\n",
       "      <td>45.143681</td>\n",
       "      <td>19.139999</td>\n",
       "      <td>18.820000</td>\n",
       "      <td>18.850000</td>\n",
       "      <td>19.090000</td>\n",
       "      <td>827200.0</td>\n",
       "      <td>18.382507</td>\n",
       "    </tr>\n",
       "    <tr>\n",
       "      <td>2015-01-07</td>\n",
       "      <td>2.650000</td>\n",
       "      <td>2.540000</td>\n",
       "      <td>2.630000</td>\n",
       "      <td>2.580000</td>\n",
       "      <td>12377600</td>\n",
       "      <td>2.580000</td>\n",
       "      <td>71.290001</td>\n",
       "      <td>70.419998</td>\n",
       "      <td>70.769997</td>\n",
       "      <td>71.110001</td>\n",
       "      <td>...</td>\n",
       "      <td>51.509998</td>\n",
       "      <td>51.169998</td>\n",
       "      <td>27890800.0</td>\n",
       "      <td>45.562168</td>\n",
       "      <td>19.230000</td>\n",
       "      <td>18.920000</td>\n",
       "      <td>19.200001</td>\n",
       "      <td>19.200001</td>\n",
       "      <td>956500.0</td>\n",
       "      <td>18.488430</td>\n",
       "    </tr>\n",
       "    <tr>\n",
       "      <td>2015-01-08</td>\n",
       "      <td>2.650000</td>\n",
       "      <td>2.560000</td>\n",
       "      <td>2.590000</td>\n",
       "      <td>2.610000</td>\n",
       "      <td>11136600</td>\n",
       "      <td>2.610000</td>\n",
       "      <td>73.059998</td>\n",
       "      <td>71.309998</td>\n",
       "      <td>71.400002</td>\n",
       "      <td>72.919998</td>\n",
       "      <td>...</td>\n",
       "      <td>51.770000</td>\n",
       "      <td>51.939999</td>\n",
       "      <td>17467200.0</td>\n",
       "      <td>46.247784</td>\n",
       "      <td>19.700001</td>\n",
       "      <td>19.340000</td>\n",
       "      <td>19.430000</td>\n",
       "      <td>19.660000</td>\n",
       "      <td>513000.0</td>\n",
       "      <td>18.931385</td>\n",
       "    </tr>\n",
       "    <tr>\n",
       "      <td>...</td>\n",
       "      <td>...</td>\n",
       "      <td>...</td>\n",
       "      <td>...</td>\n",
       "      <td>...</td>\n",
       "      <td>...</td>\n",
       "      <td>...</td>\n",
       "      <td>...</td>\n",
       "      <td>...</td>\n",
       "      <td>...</td>\n",
       "      <td>...</td>\n",
       "      <td>...</td>\n",
       "      <td>...</td>\n",
       "      <td>...</td>\n",
       "      <td>...</td>\n",
       "      <td>...</td>\n",
       "      <td>...</td>\n",
       "      <td>...</td>\n",
       "      <td>...</td>\n",
       "      <td>...</td>\n",
       "      <td>...</td>\n",
       "      <td>...</td>\n",
       "    </tr>\n",
       "    <tr>\n",
       "      <td>2020-12-09</td>\n",
       "      <td>94.699997</td>\n",
       "      <td>89.160004</td>\n",
       "      <td>92.760002</td>\n",
       "      <td>89.830002</td>\n",
       "      <td>52170400</td>\n",
       "      <td>89.830002</td>\n",
       "      <td>497.000000</td>\n",
       "      <td>479.260010</td>\n",
       "      <td>496.029999</td>\n",
       "      <td>483.739990</td>\n",
       "      <td>...</td>\n",
       "      <td>59.160000</td>\n",
       "      <td>58.950001</td>\n",
       "      <td>27278200.0</td>\n",
       "      <td>58.950001</td>\n",
       "      <td>41.200001</td>\n",
       "      <td>40.639999</td>\n",
       "      <td>41.000000</td>\n",
       "      <td>40.950001</td>\n",
       "      <td>819300.0</td>\n",
       "      <td>40.950001</td>\n",
       "    </tr>\n",
       "    <tr>\n",
       "      <td>2020-12-10</td>\n",
       "      <td>92.089996</td>\n",
       "      <td>89.029999</td>\n",
       "      <td>89.550003</td>\n",
       "      <td>91.660004</td>\n",
       "      <td>33804400</td>\n",
       "      <td>91.660004</td>\n",
       "      <td>488.290009</td>\n",
       "      <td>470.950012</td>\n",
       "      <td>483.739990</td>\n",
       "      <td>476.869995</td>\n",
       "      <td>...</td>\n",
       "      <td>58.040001</td>\n",
       "      <td>60.500000</td>\n",
       "      <td>25866600.0</td>\n",
       "      <td>60.500000</td>\n",
       "      <td>41.139999</td>\n",
       "      <td>40.470001</td>\n",
       "      <td>40.770000</td>\n",
       "      <td>40.860001</td>\n",
       "      <td>642700.0</td>\n",
       "      <td>40.860001</td>\n",
       "    </tr>\n",
       "    <tr>\n",
       "      <td>2020-12-11</td>\n",
       "      <td>92.330002</td>\n",
       "      <td>90.160004</td>\n",
       "      <td>91.540001</td>\n",
       "      <td>91.650002</td>\n",
       "      <td>28368100</td>\n",
       "      <td>91.650002</td>\n",
       "      <td>478.890015</td>\n",
       "      <td>468.820007</td>\n",
       "      <td>475.980011</td>\n",
       "      <td>475.910004</td>\n",
       "      <td>...</td>\n",
       "      <td>59.799999</td>\n",
       "      <td>58.930000</td>\n",
       "      <td>20960000.0</td>\n",
       "      <td>58.930000</td>\n",
       "      <td>40.730000</td>\n",
       "      <td>40.230000</td>\n",
       "      <td>40.549999</td>\n",
       "      <td>40.380001</td>\n",
       "      <td>1014500.0</td>\n",
       "      <td>40.380001</td>\n",
       "    </tr>\n",
       "    <tr>\n",
       "      <td>2020-12-14</td>\n",
       "      <td>95.410004</td>\n",
       "      <td>91.849998</td>\n",
       "      <td>92.209999</td>\n",
       "      <td>94.779999</td>\n",
       "      <td>47872100</td>\n",
       "      <td>94.779999</td>\n",
       "      <td>488.410004</td>\n",
       "      <td>475.500000</td>\n",
       "      <td>475.609985</td>\n",
       "      <td>486.420013</td>\n",
       "      <td>...</td>\n",
       "      <td>60.000000</td>\n",
       "      <td>58.740002</td>\n",
       "      <td>19682000.0</td>\n",
       "      <td>58.740002</td>\n",
       "      <td>41.369999</td>\n",
       "      <td>40.500000</td>\n",
       "      <td>40.660000</td>\n",
       "      <td>40.500000</td>\n",
       "      <td>754800.0</td>\n",
       "      <td>40.500000</td>\n",
       "    </tr>\n",
       "    <tr>\n",
       "      <td>2020-12-15</td>\n",
       "      <td>97.980003</td>\n",
       "      <td>95.449997</td>\n",
       "      <td>95.930000</td>\n",
       "      <td>97.120003</td>\n",
       "      <td>56662871</td>\n",
       "      <td>97.120003</td>\n",
       "      <td>489.480011</td>\n",
       "      <td>480.640015</td>\n",
       "      <td>489.049988</td>\n",
       "      <td>482.640015</td>\n",
       "      <td>...</td>\n",
       "      <td>58.740002</td>\n",
       "      <td>59.669998</td>\n",
       "      <td>14825817.0</td>\n",
       "      <td>59.669998</td>\n",
       "      <td>41.150002</td>\n",
       "      <td>40.419998</td>\n",
       "      <td>40.830002</td>\n",
       "      <td>41.150002</td>\n",
       "      <td>732329.0</td>\n",
       "      <td>41.150002</td>\n",
       "    </tr>\n",
       "  </tbody>\n",
       "</table>\n",
       "<p>1500 rows × 24 columns</p>\n",
       "</div>"
      ],
      "text/plain": [
       "                  AMD                                                        \\\n",
       "                 high        low       open      close    volume  adj_close   \n",
       "Date                                                                          \n",
       "2015-01-02   2.670000   2.670000   2.670000   2.670000         0   2.670000   \n",
       "2015-01-05   2.700000   2.640000   2.670000   2.660000   8878200   2.660000   \n",
       "2015-01-06   2.660000   2.550000   2.650000   2.630000  13912500   2.630000   \n",
       "2015-01-07   2.650000   2.540000   2.630000   2.580000  12377600   2.580000   \n",
       "2015-01-08   2.650000   2.560000   2.590000   2.610000  11136600   2.610000   \n",
       "...               ...        ...        ...        ...       ...        ...   \n",
       "2020-12-09  94.699997  89.160004  92.760002  89.830002  52170400  89.830002   \n",
       "2020-12-10  92.089996  89.029999  89.550003  91.660004  33804400  91.660004   \n",
       "2020-12-11  92.330002  90.160004  91.540001  91.650002  28368100  91.650002   \n",
       "2020-12-14  95.410004  91.849998  92.209999  94.779999  47872100  94.779999   \n",
       "2020-12-15  97.980003  95.449997  95.930000  97.120003  56662871  97.120003   \n",
       "\n",
       "                  ADBE                                      ...          C  \\\n",
       "                  high         low        open       close  ...       open   \n",
       "Date                                                        ...              \n",
       "2015-01-02   73.199997   71.889999   72.699997   72.339996  ...  54.360001   \n",
       "2015-01-05   72.430000   71.570000   72.209999   71.980003  ...  53.910000   \n",
       "2015-01-06   72.099998   69.879997   71.949997   70.529999  ...  52.680000   \n",
       "2015-01-07   71.290001   70.419998   70.769997   71.110001  ...  51.509998   \n",
       "2015-01-08   73.059998   71.309998   71.400002   72.919998  ...  51.770000   \n",
       "...                ...         ...         ...         ...  ...        ...   \n",
       "2020-12-09  497.000000  479.260010  496.029999  483.739990  ...  59.160000   \n",
       "2020-12-10  488.290009  470.950012  483.739990  476.869995  ...  58.040001   \n",
       "2020-12-11  478.890015  468.820007  475.980011  475.910004  ...  59.799999   \n",
       "2020-12-14  488.410004  475.500000  475.609985  486.420013  ...  60.000000   \n",
       "2020-12-15  489.480011  480.640015  489.049988  482.640015  ...  58.740002   \n",
       "\n",
       "                                                      G                        \\\n",
       "                close      volume  adj_close       high        low       open   \n",
       "Date                                                                            \n",
       "2015-01-02  54.259998  11137800.0  48.313530  19.170000  18.750000  19.040001   \n",
       "2015-01-05  52.549999  20945400.0  46.790939  18.990000  18.510000  18.770000   \n",
       "2015-01-06  50.700001  31989300.0  45.143681  19.139999  18.820000  18.850000   \n",
       "2015-01-07  51.169998  27890800.0  45.562168  19.230000  18.920000  19.200001   \n",
       "2015-01-08  51.939999  17467200.0  46.247784  19.700001  19.340000  19.430000   \n",
       "...               ...         ...        ...        ...        ...        ...   \n",
       "2020-12-09  58.950001  27278200.0  58.950001  41.200001  40.639999  41.000000   \n",
       "2020-12-10  60.500000  25866600.0  60.500000  41.139999  40.470001  40.770000   \n",
       "2020-12-11  58.930000  20960000.0  58.930000  40.730000  40.230000  40.549999   \n",
       "2020-12-14  58.740002  19682000.0  58.740002  41.369999  40.500000  40.660000   \n",
       "2020-12-15  59.669998  14825817.0  59.669998  41.150002  40.419998  40.830002   \n",
       "\n",
       "                                             \n",
       "                close     volume  adj_close  \n",
       "Date                                         \n",
       "2015-01-02  18.900000   259300.0  18.199549  \n",
       "2015-01-05  18.870001   836100.0  18.170660  \n",
       "2015-01-06  19.090000   827200.0  18.382507  \n",
       "2015-01-07  19.200001   956500.0  18.488430  \n",
       "2015-01-08  19.660000   513000.0  18.931385  \n",
       "...               ...        ...        ...  \n",
       "2020-12-09  40.950001   819300.0  40.950001  \n",
       "2020-12-10  40.860001   642700.0  40.860001  \n",
       "2020-12-11  40.380001  1014500.0  40.380001  \n",
       "2020-12-14  40.500000   754800.0  40.500000  \n",
       "2020-12-15  41.150002   732329.0  41.150002  \n",
       "\n",
       "[1500 rows x 24 columns]"
      ]
     },
     "execution_count": 5,
     "metadata": {},
     "output_type": "execute_result"
    }
   ],
   "source": [
    "# Call Function Above to Save Full Portfolio\n",
    "portfolio = stockCreation(stock_dict, stock_list)[0]\n",
    "\n",
    "# Show DataFrame\n",
    "portfolio"
   ]
  },
  {
   "cell_type": "code",
   "execution_count": 6,
   "metadata": {},
   "outputs": [
    {
     "data": {
      "text/html": [
       "<div>\n",
       "<style scoped>\n",
       "    .dataframe tbody tr th:only-of-type {\n",
       "        vertical-align: middle;\n",
       "    }\n",
       "\n",
       "    .dataframe tbody tr th {\n",
       "        vertical-align: top;\n",
       "    }\n",
       "\n",
       "    .dataframe thead th {\n",
       "        text-align: right;\n",
       "    }\n",
       "</style>\n",
       "<table border=\"1\" class=\"dataframe\">\n",
       "  <thead>\n",
       "    <tr style=\"text-align: right;\">\n",
       "      <th></th>\n",
       "      <th>AMD</th>\n",
       "      <th>ADBE</th>\n",
       "      <th>C</th>\n",
       "      <th>G</th>\n",
       "    </tr>\n",
       "    <tr>\n",
       "      <th>Date</th>\n",
       "      <th></th>\n",
       "      <th></th>\n",
       "      <th></th>\n",
       "      <th></th>\n",
       "    </tr>\n",
       "  </thead>\n",
       "  <tbody>\n",
       "    <tr>\n",
       "      <td>2015-01-02</td>\n",
       "      <td>2.670000</td>\n",
       "      <td>72.339996</td>\n",
       "      <td>48.313530</td>\n",
       "      <td>18.199549</td>\n",
       "    </tr>\n",
       "    <tr>\n",
       "      <td>2015-01-05</td>\n",
       "      <td>2.660000</td>\n",
       "      <td>71.980003</td>\n",
       "      <td>46.790939</td>\n",
       "      <td>18.170660</td>\n",
       "    </tr>\n",
       "    <tr>\n",
       "      <td>2015-01-06</td>\n",
       "      <td>2.630000</td>\n",
       "      <td>70.529999</td>\n",
       "      <td>45.143681</td>\n",
       "      <td>18.382507</td>\n",
       "    </tr>\n",
       "    <tr>\n",
       "      <td>2015-01-07</td>\n",
       "      <td>2.580000</td>\n",
       "      <td>71.110001</td>\n",
       "      <td>45.562168</td>\n",
       "      <td>18.488430</td>\n",
       "    </tr>\n",
       "    <tr>\n",
       "      <td>2015-01-08</td>\n",
       "      <td>2.610000</td>\n",
       "      <td>72.919998</td>\n",
       "      <td>46.247784</td>\n",
       "      <td>18.931385</td>\n",
       "    </tr>\n",
       "    <tr>\n",
       "      <td>...</td>\n",
       "      <td>...</td>\n",
       "      <td>...</td>\n",
       "      <td>...</td>\n",
       "      <td>...</td>\n",
       "    </tr>\n",
       "    <tr>\n",
       "      <td>2020-12-09</td>\n",
       "      <td>89.830002</td>\n",
       "      <td>483.739990</td>\n",
       "      <td>58.950001</td>\n",
       "      <td>40.950001</td>\n",
       "    </tr>\n",
       "    <tr>\n",
       "      <td>2020-12-10</td>\n",
       "      <td>91.660004</td>\n",
       "      <td>476.869995</td>\n",
       "      <td>60.500000</td>\n",
       "      <td>40.860001</td>\n",
       "    </tr>\n",
       "    <tr>\n",
       "      <td>2020-12-11</td>\n",
       "      <td>91.650002</td>\n",
       "      <td>475.910004</td>\n",
       "      <td>58.930000</td>\n",
       "      <td>40.380001</td>\n",
       "    </tr>\n",
       "    <tr>\n",
       "      <td>2020-12-14</td>\n",
       "      <td>94.779999</td>\n",
       "      <td>486.420013</td>\n",
       "      <td>58.740002</td>\n",
       "      <td>40.500000</td>\n",
       "    </tr>\n",
       "    <tr>\n",
       "      <td>2020-12-15</td>\n",
       "      <td>97.120003</td>\n",
       "      <td>482.640015</td>\n",
       "      <td>59.669998</td>\n",
       "      <td>41.150002</td>\n",
       "    </tr>\n",
       "  </tbody>\n",
       "</table>\n",
       "<p>1500 rows × 4 columns</p>\n",
       "</div>"
      ],
      "text/plain": [
       "                  AMD        ADBE          C          G\n",
       "Date                                                   \n",
       "2015-01-02   2.670000   72.339996  48.313530  18.199549\n",
       "2015-01-05   2.660000   71.980003  46.790939  18.170660\n",
       "2015-01-06   2.630000   70.529999  45.143681  18.382507\n",
       "2015-01-07   2.580000   71.110001  45.562168  18.488430\n",
       "2015-01-08   2.610000   72.919998  46.247784  18.931385\n",
       "...               ...         ...        ...        ...\n",
       "2020-12-09  89.830002  483.739990  58.950001  40.950001\n",
       "2020-12-10  91.660004  476.869995  60.500000  40.860001\n",
       "2020-12-11  91.650002  475.910004  58.930000  40.380001\n",
       "2020-12-14  94.779999  486.420013  58.740002  40.500000\n",
       "2020-12-15  97.120003  482.640015  59.669998  41.150002\n",
       "\n",
       "[1500 rows x 4 columns]"
      ]
     },
     "execution_count": 6,
     "metadata": {},
     "output_type": "execute_result"
    }
   ],
   "source": [
    "# Call Function Above to Save Portfolio Close Values\n",
    "portfolio_close = stockCreation(stock_dict, stock_list)[1]\n",
    "\n",
    "# Show DataFrame\n",
    "portfolio_close"
   ]
  },
  {
   "cell_type": "markdown",
   "metadata": {},
   "source": [
    "# Monte Carlo Simulation\n",
    "\n",
    "## Definition: Computational algorithms that rely on repeated random sampling to obtain numerical results. \n",
    "\n",
    "### Purpose: The underlying concept is to use randomness to solve problems that might be deterministic in principle."
   ]
  },
  {
   "cell_type": "code",
   "execution_count": 7,
   "metadata": {
    "collapsed": true,
    "jupyter": {
     "outputs_hidden": true
    }
   },
   "outputs": [
    {
     "name": "stdin",
     "output_type": "stream",
     "text": [
      "How many years do you want to run the Monte Carlo Simulation for? 10\n",
      "How many simulations would you like to run? 500\n"
     ]
    },
    {
     "name": "stdout",
     "output_type": "stream",
     "text": [
      "Running Monte Carlo simulation number 0.\n",
      "Running Monte Carlo simulation number 10.\n",
      "Running Monte Carlo simulation number 20.\n",
      "Running Monte Carlo simulation number 30.\n",
      "Running Monte Carlo simulation number 40.\n",
      "Running Monte Carlo simulation number 50.\n",
      "Running Monte Carlo simulation number 60.\n",
      "Running Monte Carlo simulation number 70.\n",
      "Running Monte Carlo simulation number 80.\n",
      "Running Monte Carlo simulation number 90.\n",
      "Running Monte Carlo simulation number 100.\n",
      "Running Monte Carlo simulation number 110.\n",
      "Running Monte Carlo simulation number 120.\n",
      "Running Monte Carlo simulation number 130.\n",
      "Running Monte Carlo simulation number 140.\n",
      "Running Monte Carlo simulation number 150.\n",
      "Running Monte Carlo simulation number 160.\n",
      "Running Monte Carlo simulation number 170.\n",
      "Running Monte Carlo simulation number 180.\n",
      "Running Monte Carlo simulation number 190.\n",
      "Running Monte Carlo simulation number 200.\n",
      "Running Monte Carlo simulation number 210.\n",
      "Running Monte Carlo simulation number 220.\n",
      "Running Monte Carlo simulation number 230.\n",
      "Running Monte Carlo simulation number 240.\n",
      "Running Monte Carlo simulation number 250.\n",
      "Running Monte Carlo simulation number 260.\n",
      "Running Monte Carlo simulation number 270.\n",
      "Running Monte Carlo simulation number 280.\n",
      "Running Monte Carlo simulation number 290.\n",
      "Running Monte Carlo simulation number 300.\n",
      "Running Monte Carlo simulation number 310.\n",
      "Running Monte Carlo simulation number 320.\n",
      "Running Monte Carlo simulation number 330.\n",
      "Running Monte Carlo simulation number 340.\n",
      "Running Monte Carlo simulation number 350.\n",
      "Running Monte Carlo simulation number 360.\n",
      "Running Monte Carlo simulation number 370.\n",
      "Running Monte Carlo simulation number 380.\n",
      "Running Monte Carlo simulation number 390.\n",
      "Running Monte Carlo simulation number 400.\n",
      "Running Monte Carlo simulation number 410.\n",
      "Running Monte Carlo simulation number 420.\n",
      "Running Monte Carlo simulation number 430.\n",
      "Running Monte Carlo simulation number 440.\n",
      "Running Monte Carlo simulation number 450.\n",
      "Running Monte Carlo simulation number 460.\n",
      "Running Monte Carlo simulation number 470.\n",
      "Running Monte Carlo simulation number 480.\n",
      "Running Monte Carlo simulation number 490.\n"
     ]
    }
   ],
   "source": [
    "# Select Number of Years for Monte Carlo Simulation\n",
    "num_years = int(input(\"How many years do you want to run the Monte Carlo Simulation for?\"))\n",
    "\n",
    "# Select Number of Simulations for Monte Carlo Simulation\n",
    "sims = int(input(\"How many simulations would you like to run?\"))\n",
    "\n",
    "# Create Monte Carlo Object\n",
    "MC = MCSimulation(\n",
    "        portfolio_data = portfolio,\n",
    "        weights = np.full((1,len(portfolio_close.columns)), 1/len(portfolio_close.columns))[0].tolist(),\n",
    "        num_simulation = sims,\n",
    "        num_trading_days = 252*num_years\n",
    "    )\n",
    "\n",
    "# Run Monte Carlo Simulation\n",
    "cumu_return = MC.calc_cumulative_return()"
   ]
  },
  {
   "cell_type": "markdown",
   "metadata": {},
   "source": [
    "### Each line represents one simulation of possible outcomes of this portfolio."
   ]
  },
  {
   "cell_type": "code",
   "execution_count": 8,
   "metadata": {},
   "outputs": [
    {
     "data": {
      "image/png": "[encoded data removed]",
      "text/plain": [
       "<Figure size 432x288 with 1 Axes>"
      ]
     },
     "metadata": {
      "needs_background": "light"
     },
     "output_type": "display_data"
    }
   ],
   "source": [
    "# Create Plot Simulation\n",
    "line_plot = MC.plot_simulation();\n",
    "\n",
    "# Save Plot Simulation\n",
    "line_plot.figure.savefig(f\"Images/MC_plot_simulation.png\", bbox_inches='tight')"
   ]
  },
  {
   "cell_type": "markdown",
   "metadata": {},
   "source": [
    "#### Before moving on: Is a high volatile or low volatile outcome more likely?\n",
    " \n",
    "### This graph represents the distribution of returns across all the simulations."
   ]
  },
  {
   "cell_type": "code",
   "execution_count": 9,
   "metadata": {},
   "outputs": [
    {
     "data": {
      "image/png": "[encoded data removed]",
      "text/plain": [
       "<Figure size 432x288 with 1 Axes>"
      ]
     },
     "metadata": {
      "needs_background": "light"
     },
     "output_type": "display_data"
    }
   ],
   "source": [
    "# Create Plot Distribution\n",
    "plot_dist = MC.plot_distribution();\n",
    "\n",
    "# Save Plot Distribution\n",
    "plot_dist.figure.savefig(f\"Images/MC_plot_distribution.png\", bbox_inches='tight')"
   ]
  },
  {
   "cell_type": "markdown",
   "metadata": {},
   "source": [
    "#### Does the distribution shown above match expectations to your previous answer of volatility?"
   ]
  },
  {
   "cell_type": "code",
   "execution_count": 10,
   "metadata": {},
   "outputs": [
    {
     "name": "stdin",
     "output_type": "stream",
     "text": [
      "Input the amount of money you'd like to forecast in this analysis: $ 1000\n"
     ]
    },
    {
     "name": "stdout",
     "output_type": "stream",
     "text": [
      "\n",
      "\n",
      "There is a 95% chance that an initial investment of $1000 in the portfolio\n",
      "over the next 10 years will end within in the range of $8109.84 and $109877.73\n"
     ]
    }
   ],
   "source": [
    "# Create Cumulative Return Table\n",
    "tbl = MC.summarize_cumulative_return()\n",
    "\n",
    "# Select Initial Investment\n",
    "initial_investment = int(input(\"Input the amount of money you'd like to forecast in this analysis: $\"))\n",
    "\n",
    "# Set Lower Confidence Interval\n",
    "ci_lower = round(tbl[8]*initial_investment,2)\n",
    "\n",
    "# Set Upper Confidence Interval\n",
    "ci_upper = round(tbl[9]*initial_investment,2)\n",
    "\n",
    "# Print Results\n",
    "print(f\"\"\"\n",
    "\n",
    "There is a 95% chance that an initial investment of ${initial_investment} in the portfolio\n",
    "over the next {num_years} years will end within in the range of ${ci_lower} and ${ci_upper}\"\"\")"
   ]
  },
  {
   "cell_type": "markdown",
   "metadata": {},
   "source": [
    "### These projections are based on the lower and upper confidence intervals."
   ]
  },
  {
   "cell_type": "markdown",
   "metadata": {},
   "source": [
    "# Rolling Statistics\n",
    "\n",
    "## Definition: Looking at rolling statistics gives performance results that are smoothed over defined periods throughout its history. \n",
    "\n",
    "### Purpose: To create a more accurate picture than a single snapshot of one period."
   ]
  },
  {
   "cell_type": "markdown",
   "metadata": {},
   "source": [
    "### Taking the 30 day rolling average smoothes the graphs and makes it easier to see overall trends. Based on the rolling average, would you change your previous answers?"
   ]
  },
  {
   "cell_type": "code",
   "execution_count": 11,
   "metadata": {},
   "outputs": [
    {
     "data": {
      "image/png": "[encoded data removed]",
      "text/plain": [
       "<Figure size 432x288 with 1 Axes>"
      ]
     },
     "metadata": {
      "needs_background": "light"
     },
     "output_type": "display_data"
    }
   ],
   "source": [
    "# Find Rolling Mean\n",
    "rollingmean = portfolio_close.rolling(window=30).mean()\n",
    "\n",
    "# Plot Rolling Mean\n",
    "rollingmeanplot = rollingmean.plot(title='Rolling Average for 30 Days');\n",
    "\n",
    "# Save Figure\n",
    "rollingmeanplot.figure.savefig(f\"Images/rollingmeansplot.png\", bbox_inches='tight')"
   ]
  },
  {
   "cell_type": "markdown",
   "metadata": {},
   "source": [
    "### The Standard Deviation (STD) is a measure of the volatility of a stock.  It can be calculated as a single statistic for an entire dataset.  The higher the STD, the more volatile a stock."
   ]
  },
  {
   "cell_type": "code",
   "execution_count": 12,
   "metadata": {},
   "outputs": [
    {
     "data": {
      "image/png": "[encoded data removed]",
      "text/plain": [
       "<Figure size 432x225 with 1 Axes>"
      ]
     },
     "metadata": {
      "needs_background": "light"
     },
     "output_type": "display_data"
    }
   ],
   "source": [
    "# Calculate STD\n",
    "overallstd = round(portfolio_close.std().sort_values(),2)\n",
    "\n",
    "# Create DataFrame\n",
    "overallstd = pd.DataFrame(overallstd)\n",
    "\n",
    "# Reset Index\n",
    "overallstd = overallstd.reset_index()\n",
    "\n",
    "# Assign Column Names\n",
    "overallstd.columns = [\"Company Ticker\", \"Standard Deviation\"]\n",
    "\n",
    "# Function to Convert DataFrame as Image\n",
    "def render_table(data, col_width=3.0, row_height=0.625, font_size=10,\n",
    "                     header_color='#40466E', row_colors=['#F1F1F2', 'w'], edge_color='w',\n",
    "                     bbox=[0, 0, 1, 1], header_columns=0,\n",
    "                     ax=None, **kwargs):\n",
    "    if ax is None:\n",
    "        size = (np.array(data.shape[::-1]) + np.array([0, 1])) * np.array([3.0, row_height])\n",
    "        fig, ax = plt.subplots(figsize=size)\n",
    "        ax.axis('off')\n",
    "    table = ax.table(cellText=data.values, bbox=bbox, colLabels=data.columns, cellLoc='center', **kwargs)\n",
    "    table.auto_set_font_size(False)\n",
    "    table.set_fontsize(font_size)\n",
    "    for k, cell in table._cells.items():\n",
    "        cell.set_edgecolor(edge_color)\n",
    "        if k[0] == 0 or k[1] < header_columns:\n",
    "            cell.set_text_props(weight='bold', color='w')\n",
    "            cell.set_facecolor(header_color)\n",
    "        else:\n",
    "            cell.set_facecolor(row_colors[k[0]%len(row_colors) ])\n",
    "    return ax.get_figure(), ax\n",
    "\n",
    "# Call Function to Convert DataFrame\n",
    "fig,ax = render_table(overallstd, header_columns=0, col_width=2.0)\n",
    "\n",
    "# Save STD Figure\n",
    "fig.savefig(\"Images/std.png\")"
   ]
  },
  {
   "cell_type": "markdown",
   "metadata": {},
   "source": [
    "#### Based on this statistic, what can you say about the volatility of your stocks?"
   ]
  },
  {
   "cell_type": "markdown",
   "metadata": {},
   "source": [
    "### The Rolling STD looks at changes in volatility over time."
   ]
  },
  {
   "cell_type": "code",
   "execution_count": 13,
   "metadata": {},
   "outputs": [
    {
     "data": {
      "image/png": "[encoded data removed]",
      "text/plain": [
       "<Figure size 432x288 with 1 Axes>"
      ]
     },
     "metadata": {
      "needs_background": "light"
     },
     "output_type": "display_data"
    }
   ],
   "source": [
    "# Find Rolling STD for 30 Days\n",
    "rollingstd = portfolio_close.rolling(window=30).std()\n",
    "\n",
    "# Plot Rolling STD\n",
    "rollingstdplot = rollingstd.plot(title='Rolling STD for 30 Days');\n",
    "\n",
    "# Save Figure\n",
    "rollingstdplot.figure.savefig(f\"Images/rollingstdplot.png\", bbox_inches='tight')"
   ]
  },
  {
   "cell_type": "markdown",
   "metadata": {},
   "source": [
    "#### Based on this plot, how would you describe the volatility of your stocks?  Are some more volatile than others?  Do they have periods of higher and lower volatility?  What could influence these?"
   ]
  },
  {
   "cell_type": "markdown",
   "metadata": {},
   "source": [
    "# Daily Return\n",
    "\n",
    "## Looking at the daily returns of stocks helps to see daily performance comparisons. \n",
    "\n",
    "### Purpose: To check a stock's performance we look at the historical prices in time. However; in order to understand its performance, there should be a comparison with other company stocks or general market trends."
   ]
  },
  {
   "cell_type": "code",
   "execution_count": 14,
   "metadata": {},
   "outputs": [],
   "source": [
    "# Function to Find Company Name from Ticker\n",
    "def get_symbol(symbol):\n",
    "    \n",
    "    # URL to Yahoo Stocks\n",
    "    url = \"http://d.yimg.com/autoc.finance.yahoo.com/autoc?query={}&region=1&lang=en\".format(symbol)\n",
    "    \n",
    "    # Get JSON Request\n",
    "    result = requests.get(url).json()\n",
    "    \n",
    "    # Save Result for Each Company\n",
    "    for x in result['ResultSet']['Result']:\n",
    "        if x['symbol'] == symbol:\n",
    "            return x['name']"
   ]
  },
  {
   "cell_type": "code",
   "execution_count": 15,
   "metadata": {},
   "outputs": [
    {
     "name": "stdout",
     "output_type": "stream",
     "text": [
      "This graph shows the daily percent changes of:\n",
      "Advanced Micro Devices, Inc.\n",
      "Adobe Inc.\n",
      "Citigroup Inc.\n",
      "Genpact Limited\n"
     ]
    },
    {
     "data": {
      "image/png": "[encoded data removed]",
      "text/plain": [
       "<Figure size 432x288 with 1 Axes>"
      ]
     },
     "metadata": {
      "needs_background": "light"
     },
     "output_type": "display_data"
    }
   ],
   "source": [
    "# Print Company Names\n",
    "print(f\"This graph shows the daily percent changes of:\")\n",
    "for x in range(len(stock_list)):\n",
    "    print(f\"{get_symbol(stock_list[x])}\")\n",
    "\n",
    "# Find Daily Returns\n",
    "stock_performance = portfolio_close.pct_change().dropna()\n",
    "\n",
    "# Plot Daily Returns\n",
    "stock_performance_plt = stock_performance.plot.line(title = \"Daily Returns\")\n",
    "\n",
    "# Save Figure\n",
    "stock_performance_plt.figure.savefig(f\"Images/daily_returns.png\", bbox_inches='tight')\n",
    "\n",
    "# Show Plot\n",
    "stock_performance_plt;"
   ]
  },
  {
   "cell_type": "markdown",
   "metadata": {},
   "source": [
    "#### What can you see and infer from the daily returns graph? "
   ]
  },
  {
   "cell_type": "markdown",
   "metadata": {},
   "source": [
    "# Cumulative Return\n",
    "\n",
    "## Definition: A cumulative return on an investment is the aggregate amount that the investment has gained or lost over time, in a time period. \n",
    "\n",
    "### Purpose: Looking at the cumulative return of stocks helps to see general performance comparison in a timespan."
   ]
  },
  {
   "cell_type": "code",
   "execution_count": 16,
   "metadata": {},
   "outputs": [
    {
     "data": {
      "image/png": "[encoded data removed]",
      "text/plain": [
       "<Figure size 432x288 with 1 Axes>"
      ]
     },
     "metadata": {
      "needs_background": "light"
     },
     "output_type": "display_data"
    }
   ],
   "source": [
    "# Create Cumulative Return Function\n",
    "def CumulativeReturn(daily_returns):\n",
    "    cumu_return = (1 + daily_returns).cumprod() - 1\n",
    "    return cumu_return\n",
    "\n",
    "# Apply Cumulative Return Function\n",
    "stock_performance_cum = stock_performance.apply(CumulativeReturn)\n",
    "\n",
    "# Plot Cumulative Return\n",
    "stock_performance_cum_plt = stock_performance_cum.plot.line(title=\"Cumulative Returns\")\n",
    "\n",
    "# Save Figure\n",
    "stock_performance_cum_plt.figure.savefig(f\"Images/cumulative_returns.png\", bbox_inches='tight')\n",
    "\n",
    "# Show Plot\n",
    "stock_performance_cum_plt;"
   ]
  },
  {
   "cell_type": "markdown",
   "metadata": {},
   "source": [
    "#### What can you see and infer from the cumulative returns graph? "
   ]
  },
  {
   "cell_type": "markdown",
   "metadata": {},
   "source": [
    "# Exponentially Weighted Moving Average (EWMA)\n",
    "\n",
    "## Definition: A view of the average price (open, close, mean) of a stock that gives more weight to the more recent values of the asset.  \n",
    "\n",
    "### Purpose: The EWMA of a stock can be used as a condfidence indiacator, meaning that a strong but declining stock should have a hard time moving below the EWMA. EWMA can help you to determine what actions to take with an asset depending on its relative position to the close price. "
   ]
  },
  {
   "cell_type": "code",
   "execution_count": 17,
   "metadata": {},
   "outputs": [
    {
     "data": {
      "image/png": "[encoded data removed]",
      "text/plain": [
       "<Figure size 432x288 with 1 Axes>"
      ]
     },
     "metadata": {
      "needs_background": "light"
     },
     "output_type": "display_data"
    }
   ],
   "source": [
    "# # Calculate Percent Change\n",
    "ewma = portfolio_close.pct_change()\n",
    "\n",
    "# Drop Nulls\n",
    "ewma = ewma.dropna()\n",
    "\n",
    "# Calculate Rolling Window using the Exponentially Weighted Moving Average.\n",
    "ewma = ewma.ewm(halflife=30).std()\n",
    "\n",
    "# ewma = ewma.merge(portfolio_close, left_on='Date', right_on='Date')\n",
    "\n",
    "# Plot Results\n",
    "ewma_plot = ewma.plot(title=\"Exponentially Weighted Moving Average\");\n",
    "\n",
    "# Save Figure\n",
    "ewma_plot.figure.savefig(f\"Images/ewma.png\", bbox_inches='tight')"
   ]
  },
  {
   "cell_type": "markdown",
   "metadata": {},
   "source": [
    "#### Using Exponentially Weighted Moving Average with overlapping closing prices, what would be your action for the assets in the portfolio you created? "
   ]
  },
  {
   "cell_type": "markdown",
   "metadata": {},
   "source": [
    "# Risk Analysis\n",
    "\n",
    "## Definition: Looking at individual assets, risk and return can be directly correlated. Often as risk increases the opportunity for a large return will also increase, but also a large loss. Looking at an entire portfolio a more risk adverse portfolio will be diverse and have stocks or assets that do not directly correlate with each other. \n",
    "\n",
    "### Purpose: Risk Analysis is a good tool to weigh the risk versus return for an entire portfolio or a single asset or security. "
   ]
  },
  {
   "cell_type": "code",
   "execution_count": 18,
   "metadata": {},
   "outputs": [
    {
     "data": {
      "text/html": [
       "<div>\n",
       "<style scoped>\n",
       "    .dataframe tbody tr th:only-of-type {\n",
       "        vertical-align: middle;\n",
       "    }\n",
       "\n",
       "    .dataframe tbody tr th {\n",
       "        vertical-align: top;\n",
       "    }\n",
       "\n",
       "    .dataframe thead th {\n",
       "        text-align: right;\n",
       "    }\n",
       "</style>\n",
       "<table border=\"1\" class=\"dataframe\">\n",
       "  <thead>\n",
       "    <tr style=\"text-align: right;\">\n",
       "      <th></th>\n",
       "      <th>AMD</th>\n",
       "      <th>ADBE</th>\n",
       "      <th>C</th>\n",
       "      <th>G</th>\n",
       "    </tr>\n",
       "    <tr>\n",
       "      <th>Date</th>\n",
       "      <th></th>\n",
       "      <th></th>\n",
       "      <th></th>\n",
       "      <th></th>\n",
       "    </tr>\n",
       "  </thead>\n",
       "  <tbody>\n",
       "    <tr>\n",
       "      <td>2015-01-05</td>\n",
       "      <td>-0.003745</td>\n",
       "      <td>-0.004976</td>\n",
       "      <td>-0.031515</td>\n",
       "      <td>-0.001587</td>\n",
       "    </tr>\n",
       "    <tr>\n",
       "      <td>2015-01-06</td>\n",
       "      <td>-0.011278</td>\n",
       "      <td>-0.020145</td>\n",
       "      <td>-0.035205</td>\n",
       "      <td>0.011659</td>\n",
       "    </tr>\n",
       "    <tr>\n",
       "      <td>2015-01-07</td>\n",
       "      <td>-0.019011</td>\n",
       "      <td>0.008223</td>\n",
       "      <td>0.009270</td>\n",
       "      <td>0.005762</td>\n",
       "    </tr>\n",
       "    <tr>\n",
       "      <td>2015-01-08</td>\n",
       "      <td>0.011628</td>\n",
       "      <td>0.025453</td>\n",
       "      <td>0.015048</td>\n",
       "      <td>0.023958</td>\n",
       "    </tr>\n",
       "    <tr>\n",
       "      <td>2015-01-09</td>\n",
       "      <td>0.007663</td>\n",
       "      <td>-0.014811</td>\n",
       "      <td>-0.022333</td>\n",
       "      <td>0.002035</td>\n",
       "    </tr>\n",
       "    <tr>\n",
       "      <td>2015-01-12</td>\n",
       "      <td>0.000000</td>\n",
       "      <td>-0.010022</td>\n",
       "      <td>-0.007877</td>\n",
       "      <td>0.012690</td>\n",
       "    </tr>\n",
       "    <tr>\n",
       "      <td>2015-01-13</td>\n",
       "      <td>0.011407</td>\n",
       "      <td>-0.007452</td>\n",
       "      <td>-0.007146</td>\n",
       "      <td>0.004010</td>\n",
       "    </tr>\n",
       "    <tr>\n",
       "      <td>2015-01-14</td>\n",
       "      <td>-0.011278</td>\n",
       "      <td>-0.008500</td>\n",
       "      <td>-0.019392</td>\n",
       "      <td>0.000499</td>\n",
       "    </tr>\n",
       "    <tr>\n",
       "      <td>2015-01-15</td>\n",
       "      <td>-0.041825</td>\n",
       "      <td>0.004286</td>\n",
       "      <td>-0.037105</td>\n",
       "      <td>0.007485</td>\n",
       "    </tr>\n",
       "    <tr>\n",
       "      <td>2015-01-16</td>\n",
       "      <td>-0.051587</td>\n",
       "      <td>0.020487</td>\n",
       "      <td>0.008046</td>\n",
       "      <td>0.007925</td>\n",
       "    </tr>\n",
       "  </tbody>\n",
       "</table>\n",
       "</div>"
      ],
      "text/plain": [
       "                 AMD      ADBE         C         G\n",
       "Date                                              \n",
       "2015-01-05 -0.003745 -0.004976 -0.031515 -0.001587\n",
       "2015-01-06 -0.011278 -0.020145 -0.035205  0.011659\n",
       "2015-01-07 -0.019011  0.008223  0.009270  0.005762\n",
       "2015-01-08  0.011628  0.025453  0.015048  0.023958\n",
       "2015-01-09  0.007663 -0.014811 -0.022333  0.002035\n",
       "2015-01-12  0.000000 -0.010022 -0.007877  0.012690\n",
       "2015-01-13  0.011407 -0.007452 -0.007146  0.004010\n",
       "2015-01-14 -0.011278 -0.008500 -0.019392  0.000499\n",
       "2015-01-15 -0.041825  0.004286 -0.037105  0.007485\n",
       "2015-01-16 -0.051587  0.020487  0.008046  0.007925"
      ]
     },
     "execution_count": 18,
     "metadata": {},
     "output_type": "execute_result"
    }
   ],
   "source": [
    "# Assign Weights\n",
    "weights = np.full((1,len(portfolio_close.columns)), 1/len(portfolio_close.columns))[0].tolist()\n",
    "\n",
    "#Calculate the Daily Returns of Portfolio\n",
    "portfolio_returns = portfolio_close.pct_change()\n",
    "\n",
    "# Drop NA's\n",
    "portfolio_returns = portfolio_returns.dropna().copy()\n",
    "\n",
    "# Show Portfolio\n",
    "portfolio_returns.head(10)"
   ]
  },
  {
   "cell_type": "code",
   "execution_count": 19,
   "metadata": {},
   "outputs": [
    {
     "data": {
      "text/plain": [
       "AMD     0.003184\n",
       "ADBE    0.001458\n",
       "C       0.000395\n",
       "G       0.000683\n",
       "dtype: float64"
      ]
     },
     "execution_count": 19,
     "metadata": {},
     "output_type": "execute_result"
    }
   ],
   "source": [
    "#Calculate the Average Return for Each Stock\n",
    "portfolio_returns_avg_rtn = portfolio_returns.mean()\n",
    "\n",
    "# Show Average Returns\n",
    "portfolio_returns_avg_rtn"
   ]
  },
  {
   "cell_type": "code",
   "execution_count": 20,
   "metadata": {},
   "outputs": [
    {
     "name": "stdout",
     "output_type": "stream",
     "text": [
      "\n",
      "The average daily percent return of the portfolio is 0.14%\n"
     ]
    }
   ],
   "source": [
    "# Assign Allocated Daily Returns\n",
    "allocated_daily_returns = (weights * portfolio_returns_avg_rtn)\n",
    "\n",
    "# Take Sum of Returns\n",
    "portfolio_return_pct = np.sum(allocated_daily_returns)\n",
    "\n",
    "# Print Analysis\n",
    "print(f\"\"\"\n",
    "The average daily percent return of the portfolio is {round(portfolio_return_pct*100,2)}%\"\"\")"
   ]
  },
  {
   "cell_type": "code",
   "execution_count": 21,
   "metadata": {},
   "outputs": [],
   "source": [
    "# #Add Daily Returns to DataFrame \n",
    "portfolio_returns['portfolio_daily_returns'] = portfolio_returns.dot(weights)\n",
    "\n",
    "# #Calculate Cumulative Returns\n",
    "Cumulative_returns_daily = (1+portfolio_returns).cumprod()"
   ]
  },
  {
   "cell_type": "code",
   "execution_count": 22,
   "metadata": {},
   "outputs": [
    {
     "name": "stdout",
     "output_type": "stream",
     "text": [
      "This portfolio has a return of 4103.04% \n",
      "and a risk of 29.15%.\n"
     ]
    }
   ],
   "source": [
    "# Assign Sum of Returns\n",
    "returns_sum = Cumulative_returns_daily['portfolio_daily_returns'].sum()\n",
    "\n",
    "# Assign Portfolio\n",
    "covariance_portfolio = portfolio_returns.iloc[:,:-1]\n",
    "\n",
    "# Take Covariance of the Portfolio\n",
    "covariance_portfolio = (covariance_portfolio.cov())*252\n",
    "\n",
    "#Calculate Variance and Risk\n",
    "portfolio_variance = np.dot(weights,np.dot(covariance_portfolio, weights))\n",
    "\n",
    "#Standard Deviation (Risk of Portfolio)\n",
    "portfolio_risk = np.sqrt(portfolio_variance)\n",
    "\n",
    "# Print Analysis\n",
    "print(f\"\"\"This portfolio has a return of {round(returns_sum - 100,2)}% \n",
    "and a risk of {round(portfolio_risk *100, 2)}%.\"\"\")"
   ]
  },
  {
   "cell_type": "markdown",
   "metadata": {},
   "source": [
    "### Knowing the risk and return of this portfolio, how would you optimize it or change it to reduce risk or increase return? "
   ]
  },
  {
   "cell_type": "code",
   "execution_count": 23,
   "metadata": {},
   "outputs": [
    {
     "name": "stdout",
     "output_type": "stream",
     "text": [
      "The Annual Volatility for Advanced Micro Devices, Inc. is 0.62\n",
      "The Annual Volatility for Adobe Inc. is 0.31\n",
      "The Annual Volatility for Citigroup Inc. is 0.36\n",
      "The Annual Volatility for Genpact Limited is 0.26\n"
     ]
    }
   ],
   "source": [
    "#Calculate Annual Volatility\n",
    "ann_volatility = portfolio_close.pct_change().apply(lambda x: np.log(1+x)).std().apply(lambda x: x*np.sqrt(250))\n",
    "\n",
    "# Show Results\n",
    "for x in range(len(ann_volatility)):\n",
    "    \n",
    "    print(f\"The Annual Volatility for {get_symbol(stock_list[x])} is {round(ann_volatility[x],2)}\")"
   ]
  },
  {
   "cell_type": "code",
   "execution_count": 24,
   "metadata": {},
   "outputs": [],
   "source": [
    "#Calculate Portfolio Variance and volatility\n",
    "portfolio_variance = np.dot(weights,np.dot(covariance_portfolio, weights))\n",
    "\n",
    "#Calculate Portfolio Volatility\n",
    "portfolio_volatility = np.sqrt(portfolio_variance)"
   ]
  },
  {
   "cell_type": "code",
   "execution_count": 25,
   "metadata": {},
   "outputs": [],
   "source": [
    "#Calculate Annual and Expected Returns\n",
    "ann_returns = portfolio_close.resample('Y').last().pct_change().mean()"
   ]
  },
  {
   "cell_type": "code",
   "execution_count": 26,
   "metadata": {},
   "outputs": [
    {
     "data": {
      "text/html": [
       "<div>\n",
       "<style scoped>\n",
       "    .dataframe tbody tr th:only-of-type {\n",
       "        vertical-align: middle;\n",
       "    }\n",
       "\n",
       "    .dataframe tbody tr th {\n",
       "        vertical-align: top;\n",
       "    }\n",
       "\n",
       "    .dataframe thead th {\n",
       "        text-align: right;\n",
       "    }\n",
       "</style>\n",
       "<table border=\"1\" class=\"dataframe\">\n",
       "  <thead>\n",
       "    <tr style=\"text-align: right;\">\n",
       "      <th></th>\n",
       "      <th>Returns</th>\n",
       "      <th>Volatility</th>\n",
       "    </tr>\n",
       "  </thead>\n",
       "  <tbody>\n",
       "    <tr>\n",
       "      <td>AMD</td>\n",
       "      <td>1.251101</td>\n",
       "      <td>0.622057</td>\n",
       "    </tr>\n",
       "    <tr>\n",
       "      <td>ADBE</td>\n",
       "      <td>0.402061</td>\n",
       "      <td>0.308693</td>\n",
       "    </tr>\n",
       "    <tr>\n",
       "      <td>C</td>\n",
       "      <td>0.099937</td>\n",
       "      <td>0.357537</td>\n",
       "    </tr>\n",
       "    <tr>\n",
       "      <td>G</td>\n",
       "      <td>0.142195</td>\n",
       "      <td>0.264815</td>\n",
       "    </tr>\n",
       "  </tbody>\n",
       "</table>\n",
       "</div>"
      ],
      "text/plain": [
       "       Returns  Volatility\n",
       "AMD   1.251101    0.622057\n",
       "ADBE  0.402061    0.308693\n",
       "C     0.099937    0.357537\n",
       "G     0.142195    0.264815"
      ]
     },
     "execution_count": 26,
     "metadata": {},
     "output_type": "execute_result"
    }
   ],
   "source": [
    "#Create Table to Display Returns and Volatility\n",
    "ret_vol_df = pd.concat([ann_returns, ann_volatility], axis=1)\n",
    "\n",
    "# Rename Columns\n",
    "ret_vol_df.columns = ['Returns', 'Volatility']\n",
    "\n",
    "# Show DataFrame\n",
    "ret_vol_df"
   ]
  },
  {
   "cell_type": "markdown",
   "metadata": {},
   "source": [
    "### To optimize we need to run a loop that will randomly assign weights to each asset in our portfolio and calculate a new volatility. we will run the loop 10000 times "
   ]
  },
  {
   "cell_type": "code",
   "execution_count": 28,
   "metadata": {},
   "outputs": [
    {
     "data": {
      "text/html": [
       "<div>\n",
       "<style scoped>\n",
       "    .dataframe tbody tr th:only-of-type {\n",
       "        vertical-align: middle;\n",
       "    }\n",
       "\n",
       "    .dataframe tbody tr th {\n",
       "        vertical-align: top;\n",
       "    }\n",
       "\n",
       "    .dataframe thead th {\n",
       "        text-align: right;\n",
       "    }\n",
       "</style>\n",
       "<table border=\"1\" class=\"dataframe\">\n",
       "  <thead>\n",
       "    <tr style=\"text-align: right;\">\n",
       "      <th></th>\n",
       "      <th>Portfolio Returns</th>\n",
       "      <th>Portfolio Volatility</th>\n",
       "      <th>AMD weight</th>\n",
       "      <th>ADBE weight</th>\n",
       "      <th>C weight</th>\n",
       "      <th>G weight</th>\n",
       "    </tr>\n",
       "  </thead>\n",
       "  <tbody>\n",
       "    <tr>\n",
       "      <td>0</td>\n",
       "      <td>0.413683</td>\n",
       "      <td>4.209263</td>\n",
       "      <td>0.114494</td>\n",
       "      <td>0.564214</td>\n",
       "      <td>0.049564</td>\n",
       "      <td>0.271729</td>\n",
       "    </tr>\n",
       "    <tr>\n",
       "      <td>1</td>\n",
       "      <td>0.930891</td>\n",
       "      <td>7.554513</td>\n",
       "      <td>0.695893</td>\n",
       "      <td>0.080406</td>\n",
       "      <td>0.091784</td>\n",
       "      <td>0.131917</td>\n",
       "    </tr>\n",
       "    <tr>\n",
       "      <td>2</td>\n",
       "      <td>0.383087</td>\n",
       "      <td>4.405123</td>\n",
       "      <td>0.115894</td>\n",
       "      <td>0.485875</td>\n",
       "      <td>0.328581</td>\n",
       "      <td>0.069650</td>\n",
       "    </tr>\n",
       "    <tr>\n",
       "      <td>3</td>\n",
       "      <td>0.505194</td>\n",
       "      <td>4.922545</td>\n",
       "      <td>0.312581</td>\n",
       "      <td>0.108809</td>\n",
       "      <td>0.281583</td>\n",
       "      <td>0.297028</td>\n",
       "    </tr>\n",
       "    <tr>\n",
       "      <td>4</td>\n",
       "      <td>0.504470</td>\n",
       "      <td>4.980482</td>\n",
       "      <td>0.297347</td>\n",
       "      <td>0.183517</td>\n",
       "      <td>0.358392</td>\n",
       "      <td>0.160744</td>\n",
       "    </tr>\n",
       "    <tr>\n",
       "      <td>...</td>\n",
       "      <td>...</td>\n",
       "      <td>...</td>\n",
       "      <td>...</td>\n",
       "      <td>...</td>\n",
       "      <td>...</td>\n",
       "      <td>...</td>\n",
       "    </tr>\n",
       "    <tr>\n",
       "      <td>9995</td>\n",
       "      <td>0.415599</td>\n",
       "      <td>4.637722</td>\n",
       "      <td>0.226597</td>\n",
       "      <td>0.147899</td>\n",
       "      <td>0.385827</td>\n",
       "      <td>0.239677</td>\n",
       "    </tr>\n",
       "    <tr>\n",
       "      <td>9996</td>\n",
       "      <td>0.351285</td>\n",
       "      <td>4.751182</td>\n",
       "      <td>0.150291</td>\n",
       "      <td>0.254887</td>\n",
       "      <td>0.563331</td>\n",
       "      <td>0.031491</td>\n",
       "    </tr>\n",
       "    <tr>\n",
       "      <td>9997</td>\n",
       "      <td>0.861954</td>\n",
       "      <td>7.289851</td>\n",
       "      <td>0.649030</td>\n",
       "      <td>0.042074</td>\n",
       "      <td>0.257666</td>\n",
       "      <td>0.051230</td>\n",
       "    </tr>\n",
       "    <tr>\n",
       "      <td>9998</td>\n",
       "      <td>0.261396</td>\n",
       "      <td>4.674654</td>\n",
       "      <td>0.093610</td>\n",
       "      <td>0.160399</td>\n",
       "      <td>0.622032</td>\n",
       "      <td>0.123959</td>\n",
       "    </tr>\n",
       "    <tr>\n",
       "      <td>9999</td>\n",
       "      <td>0.623895</td>\n",
       "      <td>5.312240</td>\n",
       "      <td>0.351473</td>\n",
       "      <td>0.386680</td>\n",
       "      <td>0.201968</td>\n",
       "      <td>0.059880</td>\n",
       "    </tr>\n",
       "  </tbody>\n",
       "</table>\n",
       "<p>10000 rows × 6 columns</p>\n",
       "</div>"
      ],
      "text/plain": [
       "      Portfolio Returns  Portfolio Volatility  AMD weight  ADBE weight  \\\n",
       "0              0.413683              4.209263    0.114494     0.564214   \n",
       "1              0.930891              7.554513    0.695893     0.080406   \n",
       "2              0.383087              4.405123    0.115894     0.485875   \n",
       "3              0.505194              4.922545    0.312581     0.108809   \n",
       "4              0.504470              4.980482    0.297347     0.183517   \n",
       "...                 ...                   ...         ...          ...   \n",
       "9995           0.415599              4.637722    0.226597     0.147899   \n",
       "9996           0.351285              4.751182    0.150291     0.254887   \n",
       "9997           0.861954              7.289851    0.649030     0.042074   \n",
       "9998           0.261396              4.674654    0.093610     0.160399   \n",
       "9999           0.623895              5.312240    0.351473     0.386680   \n",
       "\n",
       "      C weight  G weight  \n",
       "0     0.049564  0.271729  \n",
       "1     0.091784  0.131917  \n",
       "2     0.328581  0.069650  \n",
       "3     0.281583  0.297028  \n",
       "4     0.358392  0.160744  \n",
       "...        ...       ...  \n",
       "9995  0.385827  0.239677  \n",
       "9996  0.563331  0.031491  \n",
       "9997  0.257666  0.051230  \n",
       "9998  0.622032  0.123959  \n",
       "9999  0.201968  0.059880  \n",
       "\n",
       "[10000 rows x 6 columns]"
      ]
     },
     "execution_count": 28,
     "metadata": {},
     "output_type": "execute_result"
    }
   ],
   "source": [
    "# Create Empty List for Portfolio Returns\n",
    "portfolio_ret = [] \n",
    "\n",
    "# Create Empty List for Portfolio Volatility\n",
    "portfolio_vol = [] \n",
    "\n",
    "# Create Empty List for Asset Weights\n",
    "portfolio_weights = [] \n",
    "\n",
    "# Assign Number of Assets\n",
    "num_assets = len(portfolio_close.columns)\n",
    "\n",
    "# Assign Number of Portfolios\n",
    "num_portfolios = 10000\n",
    "\n",
    "# For each Portfolio\n",
    "for portfolio in range(num_portfolios):\n",
    "    \n",
    "    # Assign New Weights\n",
    "    new_weights = np.random.random(num_assets)\n",
    "    \n",
    "    # Divide New Weights by the Sum\n",
    "    new_weights = new_weights/np.sum(new_weights)\n",
    "    \n",
    "    # Add Weights to Empty Weight List\n",
    "    portfolio_weights.append(new_weights)\n",
    "    \n",
    "    # Take Dot Product\n",
    "    new_returns = np.dot(new_weights, ann_returns) \n",
    "    \n",
    "    # Append Dot Product to Empty Returns List\n",
    "    portfolio_ret.append(new_returns)\n",
    "    \n",
    "    # Take New Cariance\n",
    "    new_var = covariance_portfolio.mul(new_weights, axis=0).mul(new_weights, axis=1).sum().sum()\n",
    "    \n",
    "    # Take Square Root\n",
    "    sd = np.sqrt(new_var)\n",
    "    \n",
    "    # Find Annual SD\n",
    "    ann_sd = sd*np.sqrt(250) \n",
    "    \n",
    "    # Append Annual SD to Portfolio\n",
    "    portfolio_vol.append(ann_sd)\n",
    "    \n",
    "    # Create Port Return & Port Volatility Dictionary\n",
    "    data = {'Portfolio Returns':portfolio_ret, 'Portfolio Volatility':portfolio_vol}\n",
    "\n",
    "# For List to Create DataFrame\n",
    "for counter, symbol in enumerate(portfolio_close.columns.tolist()):\n",
    "    \n",
    "    # Add Each Weight\n",
    "    data[symbol+' weight'] = [w[counter] for w in portfolio_weights]\n",
    "    \n",
    "    # Save as DataFrame\n",
    "    portfolios  = pd.DataFrame(data)\n",
    "    \n",
    "# Show Portfolio\n",
    "portfolios "
   ]
  },
  {
   "cell_type": "code",
   "execution_count": 29,
   "metadata": {},
   "outputs": [
    {
     "data": {
      "image/png": "[encoded data removed]",
      "text/plain": [
       "<Figure size 432x288 with 1 Axes>"
      ]
     },
     "metadata": {
      "needs_background": "light"
     },
     "output_type": "display_data"
    }
   ],
   "source": [
    "# Plot Returns by Volatility\n",
    "portfolio_scatter = portfolios.plot.scatter(x='Portfolio Volatility', y='Portfolio Returns', title='Portfolio Returns by Volatility', marker='o', s=10, alpha=0.3, grid=True);\n",
    "\n",
    "# Save Figure\n",
    "portfolio_scatter.figure.savefig(f\"Images/portfolio_scatter.png\", bbox_inches='tight')"
   ]
  },
  {
   "cell_type": "markdown",
   "metadata": {},
   "source": [
    "#### Does returns and volatility have a positive or negative correlation?"
   ]
  },
  {
   "cell_type": "markdown",
   "metadata": {},
   "source": [
    "# Sharpe Ratios\n",
    "\n",
    "## Definition: average return earned beyond the risk-free rate per unit of volatility, the measure of the price fluctuations of an asset. The greater the value of the Sharpe ratio, the more attractive the risk-adjusted return.\n",
    "\n",
    "### Purpose: The ratio describes the compensation an investor will receive for the extra volatility endured when holding a riskier asset."
   ]
  },
  {
   "cell_type": "code",
   "execution_count": 30,
   "metadata": {},
   "outputs": [
    {
     "name": "stdout",
     "output_type": "stream",
     "text": [
      "The Sharpe Ratio of Advanced Micro Devices, Inc. is 1.26\n",
      "The Sharpe Ratio of Adobe Inc. is 1.18\n",
      "The Sharpe Ratio of Citigroup Inc. is 0.28\n",
      "The Sharpe Ratio of Genpact Limited is 0.66\n"
     ]
    }
   ],
   "source": [
    "# Assign Sharpe Ratio Input\n",
    "sharpe_input = portfolio_close.pct_change().dropna()\n",
    "\n",
    "# Calculate Annualized Sharpe Ratios\n",
    "sharpe_ratios = (sharpe_input.mean()*252) / (sharpe_input.std()*np.sqrt(252))\n",
    "\n",
    "# Show results\n",
    "for x in range(len(sharpe_ratios)):\n",
    "    \n",
    "    # Print Sharpe Ratios\n",
    "    print(f\"The Sharpe Ratio of {get_symbol(stock_list[x])} is {round(sharpe_ratios[x],2)}\")"
   ]
  },
  {
   "cell_type": "code",
   "execution_count": 31,
   "metadata": {},
   "outputs": [
    {
     "data": {
      "image/png": "[encoded data removed]",
      "text/plain": [
       "<Figure size 432x288 with 1 Axes>"
      ]
     },
     "metadata": {
      "needs_background": "light"
     },
     "output_type": "display_data"
    }
   ],
   "source": [
    "# Visualize Sharpe Ratios as a Bar Plot\n",
    "sharpe_ratios_plot = sharpe_ratios.plot(kind=\"bar\", title=\"Sharpe Ratios\");\n",
    "\n",
    "# Save Figure\n",
    "sharpe_ratios_plot.figure.savefig(f\"Images/sharpe_ratios.png\", bbox_inches='tight')"
   ]
  },
  {
   "cell_type": "markdown",
   "metadata": {},
   "source": [
    "#### Based on Sharpe Ratios, which stock is the most volatile?"
   ]
  }
 ],
 "metadata": {
  "kernelspec": {
   "display_name": "Python [conda env:root]",
   "language": "python",
   "name": "conda-root-py"
  },
  "language_info": {
   "codemirror_mode": {
    "name": "ipython",
    "version": 3
   },
   "file_extension": ".py",
   "mimetype": "text/x-python",
   "name": "python",
   "nbconvert_exporter": "python",
   "pygments_lexer": "ipython3",
   "version": "3.7.4"
  }
 },
 "nbformat": 4,
 "nbformat_minor": 4
}
