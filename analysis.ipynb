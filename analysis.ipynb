{
 "cells": [
  {
   "cell_type": "code",
   "execution_count": 1,
   "metadata": {},
   "outputs": [],
   "source": [
    "# Import Dependencies\n",
    "import pandas as pd\n",
    "import numpy as np\n",
    "import datetime as dt\n",
    "import matplotlib.pyplot as plt\n",
    "from dotenv import load_dotenv\n",
    "import alpaca_trade_api as tradeapi\n",
    "import os\n",
    "from datetime import datetime\n",
    "from MCForecastTools import MCSimulation\n",
    "import requests\n",
    "import pandas_datareader as pdr\n",
    "%matplotlib inline"
   ]
  },
  {
   "cell_type": "code",
   "execution_count": 2,
   "metadata": {},
   "outputs": [],
   "source": [
    "# Function to Validate Tickers\n",
    "def validateTick(tick):\n",
    "    \n",
    "    # Try Inputting into Yahoo Stocks\n",
    "    try:\n",
    "        pdr.DataReader(f'{tick}','yahoo',date)\n",
    "    \n",
    "    # Raise Error if Invalid\n",
    "    except:\n",
    "        raise ValueError(\"Ticker Not Valid.\")\n",
    "        \n",
    "# Function to Validate Date\n",
    "def validate(date_text):\n",
    "    \n",
    "    # Try Check on Format\n",
    "    try:\n",
    "        datetime.strptime(date_text, '%Y-%m-%d')\n",
    "        \n",
    "    # Raise Error if Invalid\n",
    "    except ValueError:\n",
    "        raise ValueError(\"Incorrect data format, should be YYYY-MM-DD\")"
   ]
  },
  {
   "cell_type": "code",
   "execution_count": 3,
   "metadata": {},
   "outputs": [
    {
     "name": "stdin",
     "output_type": "stream",
     "text": [
      "Pick a start date for your analysis (YYYY-MM-DD):  2015-01-01\n",
      "Add a stock ticker to the list:  TSLA\n",
      "Press 'y' to Add Another Stock, press 'Enter' to exit y\n",
      "Add a stock ticker to the list:  MSFT\n",
      "Press 'y' to Add Another Stock, press 'Enter' to exit y\n",
      "Add a stock ticker to the list:  AMD\n",
      "Press 'y' to Add Another Stock, press 'Enter' to exit \n"
     ]
    }
   ],
   "source": [
    "# Set Empty Dictionary\n",
    "stock_dict = {}\n",
    "\n",
    "# Set Empty List\n",
    "stock_list = []\n",
    "\n",
    "# Pick a Start Date\n",
    "date = input(\"Pick a start date for your analysis (YYYY-MM-DD): \")\n",
    "validate(date)\n",
    "\n",
    "# While Loop to Pick Stocks\n",
    "while (True):\n",
    "    name = input(\"Add a stock ticker to the list: \").upper()\n",
    "    validateTick(name)\n",
    "    stock_dict[name] = date\n",
    "    stock_list.append(name)\n",
    "    cont = input(\"Press 'y' to Add Another Stock, press 'Enter' to exit\")\n",
    "    if cont == \"\":\n",
    "        break;"
   ]
  },
  {
   "cell_type": "code",
   "execution_count": 4,
   "metadata": {},
   "outputs": [],
   "source": [
    "def stockCreation(stock_dict, stock_list):\n",
    "    func_list = []\n",
    "    count = 0\n",
    "    for key, value in stock_dict.items():\n",
    "        globals()[key] = pdr.DataReader(f'{key}','yahoo',value)\n",
    "        globals()[key].columns = [[key, key, key, key, key, key,],[\"high\", \"low\", \"open\", \"close\", \"volume\", \"adj_close\"]]\n",
    "        func_list.append(globals()[key])\n",
    "    \n",
    "    portfolio = func_list[0]\n",
    "    \n",
    "    if len(func_list) == 2:\n",
    "        portfolio = portfolio.merge(func_list[1], left_index=True, right_index=True, suffixes=[f'_{stock_list[0]}', f'_{stock_list[1]}'])\n",
    "    elif len(func_list) > 2:\n",
    "        portfolio = portfolio.merge(func_list[1], left_index=True, right_index=True)\n",
    "        for x in range(len(func_list)-2):\n",
    "            portfolio = portfolio.merge(func_list[x + 2], left_index=True, right_index=True)\n",
    "\n",
    "    portfolio_close = []       \n",
    "    for x in range(len(stock_list)):\n",
    "        portfolio_close.append(portfolio[stock_list[x]][f\"adj_close\"])\n",
    "    \n",
    "    portfolio_close = pd.DataFrame(portfolio_close)\n",
    "    \n",
    "    portfolio_close = portfolio_close.T\n",
    "    \n",
    "    portfolio_close.columns = stock_list\n",
    "        \n",
    "        \n",
    "    \n",
    "    return portfolio, portfolio_close"
   ]
  },
  {
   "cell_type": "code",
   "execution_count": 5,
   "metadata": {},
   "outputs": [
    {
     "data": {
      "text/html": [
       "<div>\n",
       "<style scoped>\n",
       "    .dataframe tbody tr th:only-of-type {\n",
       "        vertical-align: middle;\n",
       "    }\n",
       "\n",
       "    .dataframe tbody tr th {\n",
       "        vertical-align: top;\n",
       "    }\n",
       "\n",
       "    .dataframe thead tr th {\n",
       "        text-align: left;\n",
       "    }\n",
       "\n",
       "    .dataframe thead tr:last-of-type th {\n",
       "        text-align: right;\n",
       "    }\n",
       "</style>\n",
       "<table border=\"1\" class=\"dataframe\">\n",
       "  <thead>\n",
       "    <tr>\n",
       "      <th></th>\n",
       "      <th colspan=\"6\" halign=\"left\">TSLA</th>\n",
       "      <th colspan=\"6\" halign=\"left\">MSFT</th>\n",
       "      <th colspan=\"6\" halign=\"left\">AMD</th>\n",
       "    </tr>\n",
       "    <tr>\n",
       "      <th></th>\n",
       "      <th>high</th>\n",
       "      <th>low</th>\n",
       "      <th>open</th>\n",
       "      <th>close</th>\n",
       "      <th>volume</th>\n",
       "      <th>adj_close</th>\n",
       "      <th>high</th>\n",
       "      <th>low</th>\n",
       "      <th>open</th>\n",
       "      <th>close</th>\n",
       "      <th>volume</th>\n",
       "      <th>adj_close</th>\n",
       "      <th>high</th>\n",
       "      <th>low</th>\n",
       "      <th>open</th>\n",
       "      <th>close</th>\n",
       "      <th>volume</th>\n",
       "      <th>adj_close</th>\n",
       "    </tr>\n",
       "    <tr>\n",
       "      <th>Date</th>\n",
       "      <th></th>\n",
       "      <th></th>\n",
       "      <th></th>\n",
       "      <th></th>\n",
       "      <th></th>\n",
       "      <th></th>\n",
       "      <th></th>\n",
       "      <th></th>\n",
       "      <th></th>\n",
       "      <th></th>\n",
       "      <th></th>\n",
       "      <th></th>\n",
       "      <th></th>\n",
       "      <th></th>\n",
       "      <th></th>\n",
       "      <th></th>\n",
       "      <th></th>\n",
       "      <th></th>\n",
       "    </tr>\n",
       "  </thead>\n",
       "  <tbody>\n",
       "    <tr>\n",
       "      <td>2015-01-02</td>\n",
       "      <td>44.650002</td>\n",
       "      <td>42.652000</td>\n",
       "      <td>44.574001</td>\n",
       "      <td>43.862000</td>\n",
       "      <td>23822000.0</td>\n",
       "      <td>43.862000</td>\n",
       "      <td>47.419998</td>\n",
       "      <td>46.540001</td>\n",
       "      <td>46.660000</td>\n",
       "      <td>46.759998</td>\n",
       "      <td>27913900.0</td>\n",
       "      <td>41.539135</td>\n",
       "      <td>2.670000</td>\n",
       "      <td>2.670000</td>\n",
       "      <td>2.670000</td>\n",
       "      <td>2.670000</td>\n",
       "      <td>0</td>\n",
       "      <td>2.670000</td>\n",
       "    </tr>\n",
       "    <tr>\n",
       "      <td>2015-01-05</td>\n",
       "      <td>43.299999</td>\n",
       "      <td>41.431999</td>\n",
       "      <td>42.910000</td>\n",
       "      <td>42.018002</td>\n",
       "      <td>26842500.0</td>\n",
       "      <td>42.018002</td>\n",
       "      <td>46.730000</td>\n",
       "      <td>46.250000</td>\n",
       "      <td>46.369999</td>\n",
       "      <td>46.330002</td>\n",
       "      <td>39673900.0</td>\n",
       "      <td>41.157158</td>\n",
       "      <td>2.700000</td>\n",
       "      <td>2.640000</td>\n",
       "      <td>2.670000</td>\n",
       "      <td>2.660000</td>\n",
       "      <td>8878200</td>\n",
       "      <td>2.660000</td>\n",
       "    </tr>\n",
       "    <tr>\n",
       "      <td>2015-01-06</td>\n",
       "      <td>42.840000</td>\n",
       "      <td>40.841999</td>\n",
       "      <td>42.012001</td>\n",
       "      <td>42.256001</td>\n",
       "      <td>31309500.0</td>\n",
       "      <td>42.256001</td>\n",
       "      <td>46.750000</td>\n",
       "      <td>45.540001</td>\n",
       "      <td>46.380001</td>\n",
       "      <td>45.650002</td>\n",
       "      <td>36447900.0</td>\n",
       "      <td>40.553074</td>\n",
       "      <td>2.660000</td>\n",
       "      <td>2.550000</td>\n",
       "      <td>2.650000</td>\n",
       "      <td>2.630000</td>\n",
       "      <td>13912500</td>\n",
       "      <td>2.630000</td>\n",
       "    </tr>\n",
       "    <tr>\n",
       "      <td>2015-01-07</td>\n",
       "      <td>42.956001</td>\n",
       "      <td>41.956001</td>\n",
       "      <td>42.669998</td>\n",
       "      <td>42.189999</td>\n",
       "      <td>14842000.0</td>\n",
       "      <td>42.189999</td>\n",
       "      <td>46.459999</td>\n",
       "      <td>45.490002</td>\n",
       "      <td>45.980000</td>\n",
       "      <td>46.230000</td>\n",
       "      <td>29114100.0</td>\n",
       "      <td>41.068310</td>\n",
       "      <td>2.650000</td>\n",
       "      <td>2.540000</td>\n",
       "      <td>2.630000</td>\n",
       "      <td>2.580000</td>\n",
       "      <td>12377600</td>\n",
       "      <td>2.580000</td>\n",
       "    </tr>\n",
       "    <tr>\n",
       "      <td>2015-01-08</td>\n",
       "      <td>42.759998</td>\n",
       "      <td>42.001999</td>\n",
       "      <td>42.562000</td>\n",
       "      <td>42.124001</td>\n",
       "      <td>17212500.0</td>\n",
       "      <td>42.124001</td>\n",
       "      <td>47.750000</td>\n",
       "      <td>46.720001</td>\n",
       "      <td>46.750000</td>\n",
       "      <td>47.590000</td>\n",
       "      <td>29645200.0</td>\n",
       "      <td>42.276463</td>\n",
       "      <td>2.650000</td>\n",
       "      <td>2.560000</td>\n",
       "      <td>2.590000</td>\n",
       "      <td>2.610000</td>\n",
       "      <td>11136600</td>\n",
       "      <td>2.610000</td>\n",
       "    </tr>\n",
       "    <tr>\n",
       "      <td>...</td>\n",
       "      <td>...</td>\n",
       "      <td>...</td>\n",
       "      <td>...</td>\n",
       "      <td>...</td>\n",
       "      <td>...</td>\n",
       "      <td>...</td>\n",
       "      <td>...</td>\n",
       "      <td>...</td>\n",
       "      <td>...</td>\n",
       "      <td>...</td>\n",
       "      <td>...</td>\n",
       "      <td>...</td>\n",
       "      <td>...</td>\n",
       "      <td>...</td>\n",
       "      <td>...</td>\n",
       "      <td>...</td>\n",
       "      <td>...</td>\n",
       "      <td>...</td>\n",
       "    </tr>\n",
       "    <tr>\n",
       "      <td>2020-12-04</td>\n",
       "      <td>599.039978</td>\n",
       "      <td>585.500000</td>\n",
       "      <td>591.010010</td>\n",
       "      <td>599.039978</td>\n",
       "      <td>29401300.0</td>\n",
       "      <td>599.039978</td>\n",
       "      <td>215.380005</td>\n",
       "      <td>213.179993</td>\n",
       "      <td>214.220001</td>\n",
       "      <td>214.360001</td>\n",
       "      <td>24666000.0</td>\n",
       "      <td>214.360001</td>\n",
       "      <td>94.580002</td>\n",
       "      <td>90.629997</td>\n",
       "      <td>92.580002</td>\n",
       "      <td>94.040001</td>\n",
       "      <td>45570300</td>\n",
       "      <td>94.040001</td>\n",
       "    </tr>\n",
       "    <tr>\n",
       "      <td>2020-12-07</td>\n",
       "      <td>648.789978</td>\n",
       "      <td>603.049988</td>\n",
       "      <td>604.919983</td>\n",
       "      <td>641.760010</td>\n",
       "      <td>56309700.0</td>\n",
       "      <td>641.760010</td>\n",
       "      <td>215.539993</td>\n",
       "      <td>212.990005</td>\n",
       "      <td>214.369995</td>\n",
       "      <td>214.289993</td>\n",
       "      <td>24620000.0</td>\n",
       "      <td>214.289993</td>\n",
       "      <td>95.000000</td>\n",
       "      <td>92.970001</td>\n",
       "      <td>94.949997</td>\n",
       "      <td>94.070000</td>\n",
       "      <td>39815700</td>\n",
       "      <td>94.070000</td>\n",
       "    </tr>\n",
       "    <tr>\n",
       "      <td>2020-12-08</td>\n",
       "      <td>651.280029</td>\n",
       "      <td>618.500000</td>\n",
       "      <td>625.510010</td>\n",
       "      <td>649.880005</td>\n",
       "      <td>64265000.0</td>\n",
       "      <td>649.880005</td>\n",
       "      <td>216.949997</td>\n",
       "      <td>212.889999</td>\n",
       "      <td>213.970001</td>\n",
       "      <td>216.009995</td>\n",
       "      <td>23284100.0</td>\n",
       "      <td>216.009995</td>\n",
       "      <td>94.739998</td>\n",
       "      <td>91.900002</td>\n",
       "      <td>94.050003</td>\n",
       "      <td>92.919998</td>\n",
       "      <td>33907500</td>\n",
       "      <td>92.919998</td>\n",
       "    </tr>\n",
       "    <tr>\n",
       "      <td>2020-12-09</td>\n",
       "      <td>654.320007</td>\n",
       "      <td>588.000000</td>\n",
       "      <td>653.690002</td>\n",
       "      <td>604.479980</td>\n",
       "      <td>71291200.0</td>\n",
       "      <td>604.479980</td>\n",
       "      <td>215.229996</td>\n",
       "      <td>211.210007</td>\n",
       "      <td>215.160004</td>\n",
       "      <td>211.800003</td>\n",
       "      <td>32440600.0</td>\n",
       "      <td>211.800003</td>\n",
       "      <td>94.699997</td>\n",
       "      <td>89.160004</td>\n",
       "      <td>92.760002</td>\n",
       "      <td>89.830002</td>\n",
       "      <td>52170400</td>\n",
       "      <td>89.830002</td>\n",
       "    </tr>\n",
       "    <tr>\n",
       "      <td>2020-12-10</td>\n",
       "      <td>627.750000</td>\n",
       "      <td>566.340027</td>\n",
       "      <td>574.369995</td>\n",
       "      <td>627.070007</td>\n",
       "      <td>66888900.0</td>\n",
       "      <td>627.070007</td>\n",
       "      <td>213.080002</td>\n",
       "      <td>210.360001</td>\n",
       "      <td>211.770004</td>\n",
       "      <td>210.520004</td>\n",
       "      <td>26733300.0</td>\n",
       "      <td>210.520004</td>\n",
       "      <td>92.089996</td>\n",
       "      <td>89.029999</td>\n",
       "      <td>89.550003</td>\n",
       "      <td>91.660004</td>\n",
       "      <td>33771700</td>\n",
       "      <td>91.660004</td>\n",
       "    </tr>\n",
       "  </tbody>\n",
       "</table>\n",
       "<p>1497 rows × 18 columns</p>\n",
       "</div>"
      ],
      "text/plain": [
       "                  TSLA                                                  \\\n",
       "                  high         low        open       close      volume   \n",
       "Date                                                                     \n",
       "2015-01-02   44.650002   42.652000   44.574001   43.862000  23822000.0   \n",
       "2015-01-05   43.299999   41.431999   42.910000   42.018002  26842500.0   \n",
       "2015-01-06   42.840000   40.841999   42.012001   42.256001  31309500.0   \n",
       "2015-01-07   42.956001   41.956001   42.669998   42.189999  14842000.0   \n",
       "2015-01-08   42.759998   42.001999   42.562000   42.124001  17212500.0   \n",
       "...                ...         ...         ...         ...         ...   \n",
       "2020-12-04  599.039978  585.500000  591.010010  599.039978  29401300.0   \n",
       "2020-12-07  648.789978  603.049988  604.919983  641.760010  56309700.0   \n",
       "2020-12-08  651.280029  618.500000  625.510010  649.880005  64265000.0   \n",
       "2020-12-09  654.320007  588.000000  653.690002  604.479980  71291200.0   \n",
       "2020-12-10  627.750000  566.340027  574.369995  627.070007  66888900.0   \n",
       "\n",
       "                              MSFT                                      \\\n",
       "             adj_close        high         low        open       close   \n",
       "Date                                                                     \n",
       "2015-01-02   43.862000   47.419998   46.540001   46.660000   46.759998   \n",
       "2015-01-05   42.018002   46.730000   46.250000   46.369999   46.330002   \n",
       "2015-01-06   42.256001   46.750000   45.540001   46.380001   45.650002   \n",
       "2015-01-07   42.189999   46.459999   45.490002   45.980000   46.230000   \n",
       "2015-01-08   42.124001   47.750000   46.720001   46.750000   47.590000   \n",
       "...                ...         ...         ...         ...         ...   \n",
       "2020-12-04  599.039978  215.380005  213.179993  214.220001  214.360001   \n",
       "2020-12-07  641.760010  215.539993  212.990005  214.369995  214.289993   \n",
       "2020-12-08  649.880005  216.949997  212.889999  213.970001  216.009995   \n",
       "2020-12-09  604.479980  215.229996  211.210007  215.160004  211.800003   \n",
       "2020-12-10  627.070007  213.080002  210.360001  211.770004  210.520004   \n",
       "\n",
       "                                          AMD                        \\\n",
       "                volume   adj_close       high        low       open   \n",
       "Date                                                                  \n",
       "2015-01-02  27913900.0   41.539135   2.670000   2.670000   2.670000   \n",
       "2015-01-05  39673900.0   41.157158   2.700000   2.640000   2.670000   \n",
       "2015-01-06  36447900.0   40.553074   2.660000   2.550000   2.650000   \n",
       "2015-01-07  29114100.0   41.068310   2.650000   2.540000   2.630000   \n",
       "2015-01-08  29645200.0   42.276463   2.650000   2.560000   2.590000   \n",
       "...                ...         ...        ...        ...        ...   \n",
       "2020-12-04  24666000.0  214.360001  94.580002  90.629997  92.580002   \n",
       "2020-12-07  24620000.0  214.289993  95.000000  92.970001  94.949997   \n",
       "2020-12-08  23284100.0  216.009995  94.739998  91.900002  94.050003   \n",
       "2020-12-09  32440600.0  211.800003  94.699997  89.160004  92.760002   \n",
       "2020-12-10  26733300.0  210.520004  92.089996  89.029999  89.550003   \n",
       "\n",
       "                                            \n",
       "                close    volume  adj_close  \n",
       "Date                                        \n",
       "2015-01-02   2.670000         0   2.670000  \n",
       "2015-01-05   2.660000   8878200   2.660000  \n",
       "2015-01-06   2.630000  13912500   2.630000  \n",
       "2015-01-07   2.580000  12377600   2.580000  \n",
       "2015-01-08   2.610000  11136600   2.610000  \n",
       "...               ...       ...        ...  \n",
       "2020-12-04  94.040001  45570300  94.040001  \n",
       "2020-12-07  94.070000  39815700  94.070000  \n",
       "2020-12-08  92.919998  33907500  92.919998  \n",
       "2020-12-09  89.830002  52170400  89.830002  \n",
       "2020-12-10  91.660004  33771700  91.660004  \n",
       "\n",
       "[1497 rows x 18 columns]"
      ]
     },
     "execution_count": 5,
     "metadata": {},
     "output_type": "execute_result"
    }
   ],
   "source": [
    "portfolio = stockCreation(stock_dict, stock_list)[0]\n",
    "portfolio"
   ]
  },
  {
   "cell_type": "code",
   "execution_count": 6,
   "metadata": {},
   "outputs": [
    {
     "data": {
      "text/html": [
       "<div>\n",
       "<style scoped>\n",
       "    .dataframe tbody tr th:only-of-type {\n",
       "        vertical-align: middle;\n",
       "    }\n",
       "\n",
       "    .dataframe tbody tr th {\n",
       "        vertical-align: top;\n",
       "    }\n",
       "\n",
       "    .dataframe thead th {\n",
       "        text-align: right;\n",
       "    }\n",
       "</style>\n",
       "<table border=\"1\" class=\"dataframe\">\n",
       "  <thead>\n",
       "    <tr style=\"text-align: right;\">\n",
       "      <th></th>\n",
       "      <th>TSLA</th>\n",
       "      <th>MSFT</th>\n",
       "      <th>AMD</th>\n",
       "    </tr>\n",
       "    <tr>\n",
       "      <th>Date</th>\n",
       "      <th></th>\n",
       "      <th></th>\n",
       "      <th></th>\n",
       "    </tr>\n",
       "  </thead>\n",
       "  <tbody>\n",
       "    <tr>\n",
       "      <td>2015-01-02</td>\n",
       "      <td>43.862000</td>\n",
       "      <td>41.539135</td>\n",
       "      <td>2.670000</td>\n",
       "    </tr>\n",
       "    <tr>\n",
       "      <td>2015-01-05</td>\n",
       "      <td>42.018002</td>\n",
       "      <td>41.157158</td>\n",
       "      <td>2.660000</td>\n",
       "    </tr>\n",
       "    <tr>\n",
       "      <td>2015-01-06</td>\n",
       "      <td>42.256001</td>\n",
       "      <td>40.553074</td>\n",
       "      <td>2.630000</td>\n",
       "    </tr>\n",
       "    <tr>\n",
       "      <td>2015-01-07</td>\n",
       "      <td>42.189999</td>\n",
       "      <td>41.068310</td>\n",
       "      <td>2.580000</td>\n",
       "    </tr>\n",
       "    <tr>\n",
       "      <td>2015-01-08</td>\n",
       "      <td>42.124001</td>\n",
       "      <td>42.276463</td>\n",
       "      <td>2.610000</td>\n",
       "    </tr>\n",
       "    <tr>\n",
       "      <td>...</td>\n",
       "      <td>...</td>\n",
       "      <td>...</td>\n",
       "      <td>...</td>\n",
       "    </tr>\n",
       "    <tr>\n",
       "      <td>2020-12-04</td>\n",
       "      <td>599.039978</td>\n",
       "      <td>214.360001</td>\n",
       "      <td>94.040001</td>\n",
       "    </tr>\n",
       "    <tr>\n",
       "      <td>2020-12-07</td>\n",
       "      <td>641.760010</td>\n",
       "      <td>214.289993</td>\n",
       "      <td>94.070000</td>\n",
       "    </tr>\n",
       "    <tr>\n",
       "      <td>2020-12-08</td>\n",
       "      <td>649.880005</td>\n",
       "      <td>216.009995</td>\n",
       "      <td>92.919998</td>\n",
       "    </tr>\n",
       "    <tr>\n",
       "      <td>2020-12-09</td>\n",
       "      <td>604.479980</td>\n",
       "      <td>211.800003</td>\n",
       "      <td>89.830002</td>\n",
       "    </tr>\n",
       "    <tr>\n",
       "      <td>2020-12-10</td>\n",
       "      <td>627.070007</td>\n",
       "      <td>210.520004</td>\n",
       "      <td>91.660004</td>\n",
       "    </tr>\n",
       "  </tbody>\n",
       "</table>\n",
       "<p>1497 rows × 3 columns</p>\n",
       "</div>"
      ],
      "text/plain": [
       "                  TSLA        MSFT        AMD\n",
       "Date                                         \n",
       "2015-01-02   43.862000   41.539135   2.670000\n",
       "2015-01-05   42.018002   41.157158   2.660000\n",
       "2015-01-06   42.256001   40.553074   2.630000\n",
       "2015-01-07   42.189999   41.068310   2.580000\n",
       "2015-01-08   42.124001   42.276463   2.610000\n",
       "...                ...         ...        ...\n",
       "2020-12-04  599.039978  214.360001  94.040001\n",
       "2020-12-07  641.760010  214.289993  94.070000\n",
       "2020-12-08  649.880005  216.009995  92.919998\n",
       "2020-12-09  604.479980  211.800003  89.830002\n",
       "2020-12-10  627.070007  210.520004  91.660004\n",
       "\n",
       "[1497 rows x 3 columns]"
      ]
     },
     "execution_count": 6,
     "metadata": {},
     "output_type": "execute_result"
    }
   ],
   "source": [
    "portfolio_close = stockCreation(stock_dict, stock_list)[1]\n",
    "portfolio_close"
   ]
  },
  {
   "cell_type": "markdown",
   "metadata": {},
   "source": [
    "# Monte Carlo Simulation\n",
    "\n",
    "### Definition: Computational algorithms that rely on repeated random sampling to obtain numerical results. \n",
    "\n",
    "### Purpose: The underlying concept is to use randomness to solve problems that might be deterministic in principle."
   ]
  },
  {
   "cell_type": "code",
   "execution_count": 7,
   "metadata": {},
   "outputs": [
    {
     "name": "stdin",
     "output_type": "stream",
     "text": [
      "How many years do you want to run the Monte Carlo Simulation for? 10\n",
      "How many simulations would you like to run? 500\n"
     ]
    },
    {
     "name": "stdout",
     "output_type": "stream",
     "text": [
      "Running Monte Carlo simulation number 0.\n",
      "Running Monte Carlo simulation number 10.\n",
      "Running Monte Carlo simulation number 20.\n",
      "Running Monte Carlo simulation number 30.\n",
      "Running Monte Carlo simulation number 40.\n",
      "Running Monte Carlo simulation number 50.\n",
      "Running Monte Carlo simulation number 60.\n",
      "Running Monte Carlo simulation number 70.\n",
      "Running Monte Carlo simulation number 80.\n",
      "Running Monte Carlo simulation number 90.\n",
      "Running Monte Carlo simulation number 100.\n",
      "Running Monte Carlo simulation number 110.\n",
      "Running Monte Carlo simulation number 120.\n",
      "Running Monte Carlo simulation number 130.\n",
      "Running Monte Carlo simulation number 140.\n",
      "Running Monte Carlo simulation number 150.\n",
      "Running Monte Carlo simulation number 160.\n",
      "Running Monte Carlo simulation number 170.\n",
      "Running Monte Carlo simulation number 180.\n",
      "Running Monte Carlo simulation number 190.\n",
      "Running Monte Carlo simulation number 200.\n",
      "Running Monte Carlo simulation number 210.\n",
      "Running Monte Carlo simulation number 220.\n",
      "Running Monte Carlo simulation number 230.\n",
      "Running Monte Carlo simulation number 240.\n",
      "Running Monte Carlo simulation number 250.\n",
      "Running Monte Carlo simulation number 260.\n",
      "Running Monte Carlo simulation number 270.\n",
      "Running Monte Carlo simulation number 280.\n",
      "Running Monte Carlo simulation number 290.\n",
      "Running Monte Carlo simulation number 300.\n",
      "Running Monte Carlo simulation number 310.\n",
      "Running Monte Carlo simulation number 320.\n",
      "Running Monte Carlo simulation number 330.\n",
      "Running Monte Carlo simulation number 340.\n",
      "Running Monte Carlo simulation number 350.\n",
      "Running Monte Carlo simulation number 360.\n",
      "Running Monte Carlo simulation number 370.\n",
      "Running Monte Carlo simulation number 380.\n",
      "Running Monte Carlo simulation number 390.\n",
      "Running Monte Carlo simulation number 400.\n",
      "Running Monte Carlo simulation number 410.\n",
      "Running Monte Carlo simulation number 420.\n",
      "Running Monte Carlo simulation number 430.\n",
      "Running Monte Carlo simulation number 440.\n",
      "Running Monte Carlo simulation number 450.\n",
      "Running Monte Carlo simulation number 460.\n",
      "Running Monte Carlo simulation number 470.\n",
      "Running Monte Carlo simulation number 480.\n",
      "Running Monte Carlo simulation number 490.\n"
     ]
    }
   ],
   "source": [
    "# Select Number of Years for Monte Carlo Simulation\n",
    "num_years = int(input(\"How many years do you want to run the Monte Carlo Simulation for?\"))\n",
    "\n",
    "# Select Number of Simulations for Monte Carlo Simulation\n",
    "sims = int(input(\"How many simulations would you like to run?\"))\n",
    "\n",
    "# Create Monte Carlo Object\n",
    "MC = MCSimulation(\n",
    "        portfolio_data = portfolio,\n",
    "        weights = np.full((1,len(portfolio_close.columns)), 1/len(portfolio_close.columns))[0].tolist(),\n",
    "        num_simulation = sims,\n",
    "        num_trading_days = 252*num_years\n",
    "    )\n",
    "\n",
    "# Run Monte Carlo Simulation\n",
    "cumu_return = MC.calc_cumulative_return()"
   ]
  },
  {
   "cell_type": "markdown",
   "metadata": {},
   "source": [
    "### Each line represents one simulation of possible outcomes of this portfolio."
   ]
  },
  {
   "cell_type": "code",
   "execution_count": 8,
   "metadata": {},
   "outputs": [
    {
     "data": {
      "image/png": "[encoded data removed]",
      "text/plain": [
       "<Figure size 432x288 with 1 Axes>"
      ]
     },
     "metadata": {
      "needs_background": "light"
     },
     "output_type": "display_data"
    }
   ],
   "source": [
    "# Create Plot Simulation\n",
    "line_plot = MC.plot_simulation();\n",
    "\n",
    "# Save Plot Simulation\n",
    "line_plot.figure.savefig(f\"Images/MC_plot_simulation.png\", bbox_inches='tight')"
   ]
  },
  {
   "cell_type": "markdown",
   "metadata": {},
   "source": [
    "### Before moving on: Is a high volatile or low volatile outcome more likely?\n",
    " \n",
    "### This graph represents the distribution of returns across all the simulations."
   ]
  },
  {
   "cell_type": "code",
   "execution_count": 9,
   "metadata": {},
   "outputs": [
    {
     "data": {
      "image/png": "[encoded data removed]",
      "text/plain": [
       "<Figure size 432x288 with 1 Axes>"
      ]
     },
     "metadata": {
      "needs_background": "light"
     },
     "output_type": "display_data"
    }
   ],
   "source": [
    "# Create Plot Distribution\n",
    "plot_dist = MC.plot_distribution();\n",
    "\n",
    "# Save Plot Distribution\n",
    "plot_dist.figure.savefig(f\"Images/MC_plot_distribution.png\", bbox_inches='tight')"
   ]
  },
  {
   "cell_type": "markdown",
   "metadata": {},
   "source": [
    "### This graph shows a low volatile outcome is more likely."
   ]
  },
  {
   "cell_type": "code",
   "execution_count": 10,
   "metadata": {},
   "outputs": [
    {
     "name": "stdin",
     "output_type": "stream",
     "text": [
      "Input the amount of money you'd like to forecast in this analysis: $ 1000\n"
     ]
    },
    {
     "name": "stdout",
     "output_type": "stream",
     "text": [
      "\n",
      "\n",
      "There is a 95% chance that an initial investment of $1000 in the portfolio\n",
      "over the next 10 years will end within in the range of $26246.82 and $1288249.6\n"
     ]
    }
   ],
   "source": [
    "# Create Cumulative Return Table\n",
    "tbl = MC.summarize_cumulative_return()\n",
    "\n",
    "# Select Initial Investment\n",
    "initial_investment = int(input(\"Input the amount of money you'd like to forecast in this analysis: $\"))\n",
    "\n",
    "# Set Lower Confidence Interval\n",
    "ci_lower = round(tbl[8]*initial_investment,2)\n",
    "\n",
    "# Set Upper Confidence Interval\n",
    "ci_upper = round(tbl[9]*initial_investment,2)\n",
    "\n",
    "# Print Results\n",
    "print(f\"\"\"\n",
    "\n",
    "There is a 95% chance that an initial investment of ${initial_investment} in the portfolio\n",
    "over the next {num_years} years will end within in the range of ${ci_lower} and ${ci_upper}\"\"\")"
   ]
  },
  {
   "cell_type": "markdown",
   "metadata": {},
   "source": [
    "### These projections are based on the lower and upper confidence intervals."
   ]
  },
  {
   "cell_type": "markdown",
   "metadata": {},
   "source": [
    "# Rolling Statistics\n",
    "\n",
    "## Definition: Looking at rolling statistics gives performance results that are smoothed over defined periods throughout its history. \n",
    "\n",
    "## Purpose: To create a more accurate picture than a single snapshot of one period."
   ]
  },
  {
   "cell_type": "code",
   "execution_count": 11,
   "metadata": {},
   "outputs": [
    {
     "data": {
      "image/png": "[encoded data removed]",
      "text/plain": [
       "<Figure size 432x288 with 1 Axes>"
      ]
     },
     "metadata": {
      "needs_background": "light"
     },
     "output_type": "display_data"
    }
   ],
   "source": [
    "# Find Rolling Mean\n",
    "rollingmean = portfolio_close.rolling(window=30).mean()\n",
    "\n",
    "# Plot Rolling Mean\n",
    "rollingmeanplot = rollingmean.plot(title='Rolling Average for 30 Days');\n",
    "\n",
    "# Save Figure\n",
    "rollingmeanplot.figure.savefig(f\"Images/rollingmeansplot.png\", bbox_inches='tight')"
   ]
  },
  {
   "cell_type": "markdown",
   "metadata": {},
   "source": [
    "## Taking the 30 day rolling average smoothes the graphs and makes it easier to see overall trends. Based on the rolling average, would you change your previous answers?"
   ]
  },
  {
   "cell_type": "markdown",
   "metadata": {},
   "source": [
    "## The Standard Deviation (STD) is a measure of the volatility of a stock.  It can be calculated as a single statistic for an entire dataset.  The higher the STD, the more volatile a stock."
   ]
  },
  {
   "cell_type": "code",
   "execution_count": 12,
   "metadata": {},
   "outputs": [
    {
     "data": {
      "image/png": "[encoded data removed]",
      "text/plain": [
       "<Figure size 216x180 with 1 Axes>"
      ]
     },
     "metadata": {
      "needs_background": "light"
     },
     "output_type": "display_data"
    }
   ],
   "source": [
    "# Calculate STD\n",
    "overallstd = portfolio_close.std().sort_values()\n",
    "\n",
    "overallstd = pd.DataFrame(overallstd)\n",
    "\n",
    "overallstd.columns = [\"Standard Deviation\"]\n",
    "\n",
    "overallstd\n",
    "\n",
    "\n",
    "\n",
    "\n",
    "def render_mpl_table(data, col_width=3.0, row_height=0.625, font_size=10,\n",
    "                     header_color='#40466E', row_colors=['#F1F1F2', 'w'], edge_color='w',\n",
    "                     bbox=[0, 0, 1, 1], header_columns=0,\n",
    "                     ax=None, **kwargs):\n",
    "    if ax is None:\n",
    "        size = (np.array(data.shape[::-1]) + np.array([0, 1])) * np.array([3.0, row_height])\n",
    "        fig, ax = plt.subplots(figsize=size)\n",
    "        ax.axis('off')\n",
    "    mpl_table = ax.table(cellText=data.values, bbox=bbox, colLabels=data.columns, cellLoc='center', **kwargs)\n",
    "    mpl_table.auto_set_font_size(False)\n",
    "    mpl_table.set_fontsize(font_size)\n",
    "    for k, cell in mpl_table._cells.items():\n",
    "        cell.set_edgecolor(edge_color)\n",
    "        if k[0] == 0 or k[1] < header_columns:\n",
    "            cell.set_text_props(weight='bold', color='w')\n",
    "            cell.set_facecolor(header_color)\n",
    "        else:\n",
    "            cell.set_facecolor(row_colors[k[0]%len(row_colors) ])\n",
    "    return ax.get_figure(), ax\n",
    "fig,ax = render_mpl_table(overallstd, header_columns=0, col_width=2.0)\n",
    "fig.savefig(\"Images/std.png\")"
   ]
  },
  {
   "cell_type": "markdown",
   "metadata": {},
   "source": [
    "## Based on this statistic, what can you say about the volatility of your stocks?"
   ]
  },
  {
   "cell_type": "markdown",
   "metadata": {},
   "source": [
    "## The Rolling STD looks at changes in volatility over time."
   ]
  },
  {
   "cell_type": "code",
   "execution_count": 13,
   "metadata": {},
   "outputs": [
    {
     "data": {
      "image/png": "[encoded data removed]",
      "text/plain": [
       "<Figure size 432x288 with 1 Axes>"
      ]
     },
     "metadata": {
      "needs_background": "light"
     },
     "output_type": "display_data"
    }
   ],
   "source": [
    "# Find Rolling STD for 30 Days\n",
    "rollingstd = portfolio_close.rolling(window=30).std()\n",
    "\n",
    "# Plot Rolling STD\n",
    "rollingstdplot = rollingstd.plot(title='Rolling STD for 30 Days');\n",
    "\n",
    "# Save Figure\n",
    "rollingstdplot.figure.savefig(f\"Images/rollingstdplot.png\", bbox_inches='tight')"
   ]
  },
  {
   "cell_type": "markdown",
   "metadata": {},
   "source": [
    "## Based on this plot, how would you describe the volatility of your stocks?  Are some more volatile than others?  Do they have periods of higher and lower volatility?  What could influence these?"
   ]
  },
  {
   "cell_type": "markdown",
   "metadata": {},
   "source": [
    "# Performance Analysis"
   ]
  },
  {
   "cell_type": "markdown",
   "metadata": {},
   "source": [
    "To check a stock's performance we look at the historical prices in time. However; in order to understand its performance, there should be a comparison with other company stocks or general market trends. Prices can not be used to compare different companies; therefore, returns in percentage are calculated to have a meaningful comparison and performance analysis. "
   ]
  },
  {
   "cell_type": "markdown",
   "metadata": {},
   "source": [
    "### *Daily Return* \n",
    "Looking at the daily returns of stocks helps to see daily performance comparisons. "
   ]
  },
  {
   "cell_type": "code",
   "execution_count": 14,
   "metadata": {},
   "outputs": [],
   "source": [
    "# Function to Find Company Name from Ticker\n",
    "def get_symbol(symbol):\n",
    "    \n",
    "    # URL to Yahoo Stocks\n",
    "    url = \"http://d.yimg.com/autoc.finance.yahoo.com/autoc?query={}&region=1&lang=en\".format(symbol)\n",
    "    \n",
    "    # Get JSON Request\n",
    "    result = requests.get(url).json()\n",
    "    \n",
    "    # Save Result for Each Company\n",
    "    for x in result['ResultSet']['Result']:\n",
    "        if x['symbol'] == symbol:\n",
    "            return x['name']"
   ]
  },
  {
   "cell_type": "code",
   "execution_count": 15,
   "metadata": {},
   "outputs": [
    {
     "name": "stdout",
     "output_type": "stream",
     "text": [
      "This graph shows us daily percent changes of Tesla, Inc..\n",
      "This graph shows us daily percent changes of Microsoft Corporation.\n",
      "This graph shows us daily percent changes of Advanced Micro Devices, Inc..\n"
     ]
    },
    {
     "data": {
      "image/png": "[encoded data removed]",
      "text/plain": [
       "<Figure size 432x288 with 1 Axes>"
      ]
     },
     "metadata": {
      "needs_background": "light"
     },
     "output_type": "display_data"
    }
   ],
   "source": [
    "# Print Company Names\n",
    "for x in range(len(stock_list)):\n",
    "    print(f\"This graph shows us daily percent changes of {get_symbol(stock_list[x])}.\")\n",
    "\n",
    "# Find Daily Returns\n",
    "stock_performance = portfolio_close.pct_change().dropna()\n",
    "\n",
    "# Plot Daily Returns\n",
    "stock_performance_plt = stock_performance.plot.line(title = \"Daily Returns\")\n",
    "\n",
    "# Save Figure\n",
    "stock_performance_plt.figure.savefig(f\"Images/daily_returns.png\", bbox_inches='tight')\n",
    "\n",
    "# Show Plot\n",
    "stock_performance_plt;"
   ]
  },
  {
   "cell_type": "markdown",
   "metadata": {},
   "source": [
    "### *Cumulative Return* \n",
    "Looking at the cumulative return of stocks helps to see general performance comparison in a timespan. "
   ]
  },
  {
   "cell_type": "code",
   "execution_count": 16,
   "metadata": {},
   "outputs": [
    {
     "data": {
      "image/png": "[encoded data removed]",
      "text/plain": [
       "<Figure size 432x288 with 1 Axes>"
      ]
     },
     "metadata": {
      "needs_background": "light"
     },
     "output_type": "display_data"
    }
   ],
   "source": [
    "# Find Cumulative Return\n",
    "stock_performance_cum = (1+stock_performance).cumprod()\n",
    "\n",
    "# Plot Cumulative Return\n",
    "stock_performance_cum_plt = stock_performance_cum.plot.line(title=\"Cumulative Returns\")\n",
    "\n",
    "# Save Figure\n",
    "stock_performance_cum_plt.figure.savefig(f\"Images/cumulative_returns.png\", bbox_inches='tight')\n",
    "\n",
    "# Show Plot\n",
    "stock_performance_cum_plt;"
   ]
  },
  {
   "cell_type": "code",
   "execution_count": null,
   "metadata": {},
   "outputs": [],
   "source": []
  },
  {
   "cell_type": "code",
   "execution_count": null,
   "metadata": {},
   "outputs": [],
   "source": []
  },
  {
   "cell_type": "code",
   "execution_count": null,
   "metadata": {},
   "outputs": [],
   "source": []
  },
  {
   "cell_type": "code",
   "execution_count": null,
   "metadata": {},
   "outputs": [],
   "source": []
  },
  {
   "cell_type": "code",
   "execution_count": null,
   "metadata": {},
   "outputs": [],
   "source": []
  },
  {
   "cell_type": "code",
   "execution_count": null,
   "metadata": {},
   "outputs": [],
   "source": []
  },
  {
   "cell_type": "code",
   "execution_count": null,
   "metadata": {},
   "outputs": [],
   "source": []
  },
  {
   "cell_type": "code",
   "execution_count": null,
   "metadata": {},
   "outputs": [],
   "source": []
  },
  {
   "cell_type": "code",
   "execution_count": null,
   "metadata": {},
   "outputs": [],
   "source": []
  },
  {
   "cell_type": "code",
   "execution_count": null,
   "metadata": {},
   "outputs": [],
   "source": []
  },
  {
   "cell_type": "code",
   "execution_count": null,
   "metadata": {},
   "outputs": [],
   "source": []
  },
  {
   "cell_type": "code",
   "execution_count": null,
   "metadata": {},
   "outputs": [],
   "source": []
  }
 ],
 "metadata": {
  "kernelspec": {
   "display_name": "Python [conda env:root]",
   "language": "python",
   "name": "conda-root-py"
  },
  "language_info": {
   "codemirror_mode": {
    "name": "ipython",
    "version": 3
   },
   "file_extension": ".py",
   "mimetype": "text/x-python",
   "name": "python",
   "nbconvert_exporter": "python",
   "pygments_lexer": "ipython3",
   "version": "3.7.4"
  }
 },
 "nbformat": 4,
 "nbformat_minor": 4
}
